{
  "nbformat": 4,
  "nbformat_minor": 0,
  "metadata": {
    "colab": {
      "provenance": [],
      "authorship_tag": "ABX9TyP2/3LcXCe5BRMVnbzBtDOc",
      "include_colab_link": true
    },
    "kernelspec": {
      "name": "python3",
      "display_name": "Python 3"
    },
    "language_info": {
      "name": "python"
    }
  },
  "cells": [
    {
      "cell_type": "markdown",
      "metadata": {
        "id": "view-in-github",
        "colab_type": "text"
      },
      "source": [
        "<a href=\"https://colab.research.google.com/github/Ray366108/python/blob/main/ACTIVIDAD4.ipynb\" target=\"_parent\"><img src=\"https://colab.research.google.com/assets/colab-badge.svg\" alt=\"Open In Colab\"/></a>"
      ]
    },
    {
      "cell_type": "markdown",
      "source": [
        "**1.- Programa en python   que lea 3 calificaciones calcule el promedio del alumno y desplegar:** \n",
        "\n",
        "**Si prom < 30 Repetir** \n",
        "**Si prom >=30 y prom <60 extraordinario** \n",
        "**Si prom >=60 y prom <70 suficiente** \n",
        "**Si prom >=70 y prom <80 Regular** \n",
        "**Si prom >=80 y prom <90 bien** \n",
        "**Si prom >=90 y prom <98 muy bien** \n",
        "**Si prom >=98 y prom <=100 excelente** \n",
        "**Si prom >100 Error en promedio** \n",
        "**Realizar el algoritmo optimizado**"
      ],
      "metadata": {
        "id": "Nic2fJFQBFYf"
      }
    },
    {
      "cell_type": "code",
      "execution_count": 51,
      "metadata": {
        "colab": {
          "base_uri": "https://localhost:8080/",
          "height": 0
        },
        "id": "jUYbwGPUA8nW",
        "outputId": "d013c141-f0c5-486f-afa1-eb21a7ba571e"
      },
      "outputs": [
        {
          "output_type": "stream",
          "name": "stdout",
          "text": [
            "Ingresa la calificacion 1: 80\n",
            "Ingresa la calificacion 2: 80\n",
            "Ingresa la calificacion 3: 80\n",
            "BIEN\n"
          ]
        }
      ],
      "source": [
        "calf1 = input(\"Ingresa la calificacion 1: \")\n",
        "calf2 = input(\"Ingresa la calificacion 2: \")\n",
        "calf3 = input(\"Ingresa la calificacion 3: \")\n",
        "try:\n",
        "    prom = (int(calf1) + int(calf2) + int(calf3)) / 3\n",
        "    if prom >=80 :\n",
        "       if prom >= 98 :\n",
        "          if prom > 100 :\n",
        "              print(\"ERROR EN PROMEDIO\")\n",
        "          else:\n",
        "              print(\"Excelente\")\n",
        "       else:\n",
        "           if prom >= 90 :\n",
        "               print(\"MUY BIEN\")\n",
        "           else:\n",
        "               print(\"BIEN\")  \n",
        "    else:\n",
        "        if prom >= 60 :\n",
        "           if prom >= 70 :\n",
        "               print(\"REGULAR\")\n",
        "           else:\n",
        "                print(\"SUFICIETE\")\n",
        "        else:\n",
        "            if prom >= 30 :\n",
        "                print(\"EXTRAORDINARIO\")\n",
        "            else:\n",
        "                print(\"REPETIR\")\n",
        "except ValueError:\n",
        "    print(\"ERROR: LOS VALORES NO DEBEN SER LETRAS, SOLO NUMEROS ENTEROS\")"
      ]
    },
    {
      "cell_type": "markdown",
      "source": [
        "**2.- Programa en Python que sirva para calcular el salario semanal de un trabajador donde se obtiene como dato de entrada las horas semanales trabajadas, el salario por hora.** \n",
        "\n",
        "**El programa deberá calcular el salario normal, salario extra y salario total, considerando lo siguiente:** \n",
        "\n",
        "**Jornada Normal de 40 horas.** \n",
        "**El salario normal se considera las horas trabajadas menores o igual a la jornada normal**\n",
        "**Salario extra se considera las horas trabajadas mayores a la jornada normal y se pagan dobles las primeras 9 y triples a partir de la décima hora extra**"
      ],
      "metadata": {
        "id": "I9UijnU0Ogmp"
      }
    },
    {
      "cell_type": "code",
      "source": [
        "horas = input(\"INGRESA LAS HORAS TRABAJADAS: \")\n",
        "salarioxhora = input(\"INGRESA TU SALARIO POR HORA: \")\n",
        "jnorml = 40\n",
        "try:\n",
        "    h = int(horas)\n",
        "    slxhr = int(salarioxhora)\n",
        "    if h > jnorml :\n",
        "        snorml = jnorml * slxhr\n",
        "        if h > jnorml + 9 :\n",
        "            slext = (9 * slxhr * 2)+((h-(jnorml + 9))* slxhr * 3)\n",
        "        else:\n",
        "            slext = (h - jnorml)* slxhr * 2\n",
        "    else:\n",
        "        snorml = h * slxhr\n",
        "        slext = 0\n",
        "    sltl = snorml + slext\n",
        "    print((f\"SALARIO POR HORA $ {slxhr}\"))\n",
        "    print((f\"HORAS TRABAJADAS $ {h}\"))\n",
        "    print((f\"SALARIO EXTRA    $ {slext}\"))\n",
        "    print((f\"SALARIO TOTAL    $ {sltl}\"))\n",
        "except ValueError:\n",
        "    print(\"ERROR: NO PUEDE INGRESAR NUMEROS DECIMALES U LETRAS\")\n",
        "    "
      ],
      "metadata": {
        "colab": {
          "base_uri": "https://localhost:8080/",
          "height": 0
        },
        "id": "8Zzy35hSP1zC",
        "outputId": "72367696-c3f9-4fc1-d775-a1b79e45cabe"
      },
      "execution_count": 68,
      "outputs": [
        {
          "output_type": "stream",
          "name": "stdout",
          "text": [
            "INGRESA LAS HORAS TRABAJADAS: 51\n",
            "INGRESA TU SALARIO POR HORA: 10\n",
            "SALARIO POR HORA $ 10\n",
            "HORAS TRABAJADAS $ 51\n",
            "SALARIO EXTRA    $ 240\n",
            "SALARIO TOTAL    $ 640\n"
          ]
        }
      ]
    },
    {
      "cell_type": "markdown",
      "source": [
        "**3.- Programa en Python que sirva para calcular el Total a pagar por consumo de agua, donde el dato de entrada son los M3 de agua consumidos, Tomar en cuenta que se cobra escalonada de la Siguiente manera:** \n",
        "\n",
        "**Rango1: 0 al 4 M3 $50 x facturación sin importar cuánto consumió en este rango** \n",
        "\n",
        "**Rango2: 5 a 15 M3 $8.00 x M3** \n",
        "\n",
        "**Rango3: 16 a 50 M3 $10.00 x M3** \n",
        "\n",
        "**Rango4: 51 M3 en adelante $11.00 x M3** \n",
        "\n",
        "**Nota: Desplegar SubTotal, Iva(16%), y Total a pagar.**"
      ],
      "metadata": {
        "id": "lD3KPugGjezi"
      }
    },
    {
      "cell_type": "code",
      "source": [
        "metros = input(\"INNGRESA LOS M3 CONSUMIDOS:\")\n",
        "try:\n",
        "    m3 = int(metros)\n",
        "    if m3 >= 16 :\n",
        "        if m3 > 50 :\n",
        "            sub = m3 * 11\n",
        "            iva = sub * 0.16\n",
        "        else:\n",
        "            sub = m3 * 10\n",
        "            iva = sub * 0.16\n",
        "    else:\n",
        "        if m3 >= 5 :\n",
        "            sub = m3 * 8\n",
        "            iva = sub * 0.16\n",
        "        else:\n",
        "            sub = m3 * 50\n",
        "            iva = sub * 0.16\n",
        "           \n",
        "    topag = iva + sub\n",
        "    print(f\"SUBTOTAL      $ {sub}\")\n",
        "    print(f\"Iva(16%)      $ {iva} \")\n",
        "    print(f\"TOTAL A PAGAR $ {topag} \")\n",
        "except ValueError:\n",
        "    print(\"Error: SOLO INGRESAR NUMEROS ENTEROS\")\n",
        "        "
      ],
      "metadata": {
        "colab": {
          "base_uri": "https://localhost:8080/",
          "height": 0
        },
        "id": "fgwLNLLwjwKy",
        "outputId": "80d74161-0fd0-4043-8ef2-69e54e19570b"
      },
      "execution_count": 90,
      "outputs": [
        {
          "output_type": "stream",
          "name": "stdout",
          "text": [
            "INNGRESA LOS M3 CONSUMIDOS:8.5\n",
            "Error: SOLO INGRESAR NUMEROS ENTEROS\n"
          ]
        }
      ]
    },
    {
      "cell_type": "markdown",
      "source": [
        "**4- En la materia de Metodología de la programación se aplican 5 exámenes, calcular el promedio final de la materia donde la calificación menor de los exámenes se anula y el promedio se calcula en base a 4 exámenes.**\n",
        "\n",
        "**Desplegar el promedio final. y cual es la mas baja que se elimino.**"
      ],
      "metadata": {
        "id": "WNO3pNFqyoP4"
      }
    },
    {
      "cell_type": "code",
      "source": [
        "cal1 = input(\"INGRESE CALIFICACION DE EXAMEN 1: \")\n",
        "cal2 = input(\"INGRESE CALIFICACION DE EXAMEN 2: \")\n",
        "cal3 = input(\"INGRESE CALIFICACION DE EXAMEN 3: \")\n",
        "cal4 = input(\"INGRESE CALIFICACION DE EXAMEN 4: \")\n",
        "cal5 = input(\"INGRESE CALIFICACION DE EXAMEN 5: \")\n",
        "try:\n",
        "     a = int(cal1)\n",
        "     b = int(cal2)\n",
        "     c = int(cal3)\n",
        "     d = int(cal4)\n",
        "     e = int(cal5)\n",
        "     menor = min(a, b, c, d, e)\n",
        "     suma = sum([a, b, c, d, e])\n",
        "     prom = (suma - menor) / 4\n",
        "     print(f\"PROMEDIO FINAL: {prom}\")\n",
        "     print(f\"CALIFICACION MAS BAJA: {menor}\")\n",
        "except ValueError:\n",
        "    print(\"QUE SHOW CONTIGO, SOLO NUMEROS ENTEROS4\")\n"
      ],
      "metadata": {
        "colab": {
          "base_uri": "https://localhost:8080/",
          "height": 0
        },
        "id": "tIZEumV6ysGQ",
        "outputId": "971db6d3-7f87-4e85-bcea-946c9b89d663"
      },
      "execution_count": 99,
      "outputs": [
        {
          "output_type": "stream",
          "name": "stdout",
          "text": [
            "INGRESE CALIFICACION DE EXAMEN 1: 8.5\n",
            "INGRESE CALIFICACION DE EXAMEN 2: 40\n",
            "INGRESE CALIFICACION DE EXAMEN 3: 40\n",
            "INGRESE CALIFICACION DE EXAMEN 4: 0\n",
            "INGRESE CALIFICACION DE EXAMEN 5: 40\n",
            "QUE SHOW CONTIGO, SOLO NUMEROS ENTEROS\n"
          ]
        }
      ]
    },
    {
      "cell_type": "markdown",
      "source": [],
      "metadata": {
        "id": "5LC9zXOH-0Cy"
      }
    },
    {
      "cell_type": "markdown",
      "source": [
        "**6.- Programa en Python que lea 4 números enteros desplegar cuales el menor, cual es mayor**"
      ],
      "metadata": {
        "id": "ARUfRTUWEqij"
      }
    },
    {
      "cell_type": "code",
      "source": [
        "num1 = input(\"INGRESE UN NUMERO: \")\n",
        "num2 = input(\"INGRESE UN NUMERO: \")\n",
        "num3 = input(\"INGRESE UN NUMERO: \")\n",
        "num4 = input(\"INGRESE UN NUMERO: \")\n",
        "try:\n",
        "    a = int(num1)\n",
        "    b = int(num2)\n",
        "    c = int(num3)\n",
        "    d = int(num4)\n",
        "    menor = min(a, b, c, d)\n",
        "    mayor = max(a, b, c, d)\n",
        "    print(f\"EL MENOR ES {menor}\")\n",
        "    print(f\"EL MAYOR ES {mayor}\")\n",
        "except ValueError:\n",
        "    print(\"ERROR: NO INGRESAR LETRAS\")\n"
      ],
      "metadata": {
        "colab": {
          "base_uri": "https://localhost:8080/",
          "height": 0
        },
        "id": "J4DcexF7_NSQ",
        "outputId": "957878df-0eee-4a10-e9eb-ba33f8972a60"
      },
      "execution_count": 101,
      "outputs": [
        {
          "output_type": "stream",
          "name": "stdout",
          "text": [
            "INGRESE UN NUMERO: G\n",
            "INGRESE UN NUMERO: 5\n",
            "INGRESE UN NUMERO: 4\n",
            "INGRESE UN NUMERO: 7\n",
            "ERROR: NO INGRESAR LETRAS\n"
          ]
        }
      ]
    },
    {
      "cell_type": "markdown",
      "source": [
        "**7.- Programa en Python que sirva para calcular el área de un triangulo, los datos de entrada deben ser forzosamente de tipo real**\n",
        "\n"
      ],
      "metadata": {
        "id": "_IoWkEk6G77C"
      }
    },
    {
      "cell_type": "code",
      "source": [
        "base = input(\"INGRESA MEDIDA DE LA BASE: \")\n",
        "altura = input(\"INGRESA MEDIDA DE LA ALTURA: \")\n",
        "try:\n",
        "    b = float(base)\n",
        "    a = float(altura)\n",
        "    area = (b * a)/ 2\n",
        "    print(f\"EL AREA ES {area}\")\n",
        "except ValueError:\n",
        "    print(\"ERROR\")\n"
      ],
      "metadata": {
        "colab": {
          "base_uri": "https://localhost:8080/",
          "height": 0
        },
        "id": "1g6yBfxnHtnr",
        "outputId": "5e72a6bb-977e-40f8-d5b3-c156541d59a6"
      },
      "execution_count": 108,
      "outputs": [
        {
          "output_type": "stream",
          "name": "stdout",
          "text": [
            "INGRESA MEDIDA DE LA BASE: -10\n",
            "INGRESA MEDIDA DE LA ALTURA: -9\n",
            "EL AREA ES 45.0\n"
          ]
        }
      ]
    },
    {
      "cell_type": "markdown",
      "source": [
        "**8.- Programa en Python que sirva para calcular el área de un circulo**"
      ],
      "metadata": {
        "id": "_eV11IyYL1nR"
      }
    },
    {
      "cell_type": "code",
      "source": [
        "radio = input(\"INGRESE EL RADIO DEL CIRCULO: \")\n",
        "pi = 3.1416\n",
        "try:\n",
        "    r = int(radio)\n",
        "    radcuad = pow(r, 2)\n",
        "    area = pi * radcuad\n",
        "    print(f\"EL AREA ES {area} U2\")\n",
        "except ValueError:\n",
        "    print(\"ERROR: NO INGRESAR CARACTERES\")\n"
      ],
      "metadata": {
        "colab": {
          "base_uri": "https://localhost:8080/",
          "height": 0
        },
        "id": "SIzu44gtL9R5",
        "outputId": "182e4564-6d24-4b90-d887-6f70a1b911b1"
      },
      "execution_count": 114,
      "outputs": [
        {
          "output_type": "stream",
          "name": "stdout",
          "text": [
            "INGRESE EL RADIO DEL CIRCULO: 3\n",
            "EL AREA ES 28.2744 U2\n"
          ]
        }
      ]
    }
  ]
}