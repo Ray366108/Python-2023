{
  "nbformat": 4,
  "nbformat_minor": 0,
  "metadata": {
    "colab": {
      "provenance": [],
      "authorship_tag": "ABX9TyP7JsguHbxcSAXXRVpjLaa7",
      "include_colab_link": true
    },
    "kernelspec": {
      "name": "python3",
      "display_name": "Python 3"
    },
    "language_info": {
      "name": "python"
    }
  },
  "cells": [
    {
      "cell_type": "markdown",
      "metadata": {
        "id": "view-in-github",
        "colab_type": "text"
      },
      "source": [
        "<a href=\"https://colab.research.google.com/github/Ray366108/Python-Act/blob/main/Actividad4_23.ipynb\" target=\"_parent\"><img src=\"https://colab.research.google.com/assets/colab-badge.svg\" alt=\"Open In Colab\"/></a>"
      ]
    },
    {
      "cell_type": "markdown",
      "source": [
        "**1.- Programa en python   que lea 3 calificaciones calcule el promedio del alumno**"
      ],
      "metadata": {
        "id": "agReKtuZtoUu"
      }
    },
    {
      "cell_type": "code",
      "source": [
        "try:\n",
        "    calf1 = int(input(\"Ingrese calificacion 1: \"))\n",
        "    calf2 = int(input(\"Ingrese calificacion 2: \"))\n",
        "    calf3 = int(input(\"Ingrese calificacion 3: \"))\n",
        "    prom = (calf1 + calf2 + calf3) / 3\n",
        "except ValueError:\n",
        "    print(\"ERROR: INTRODUCIR NUMEROS ENTEROS MI NIÑO\")\n",
        "else:\n",
        "    if prom >=80 :\n",
        "       if prom >= 98 :\n",
        "          if prom > 100 :\n",
        "              print(\"ERROR EN PROMEDIO\")\n",
        "          else:\n",
        "              print(\"Excelente\")\n",
        "       else:\n",
        "           if prom >= 90 :\n",
        "               print(\"MUY BIEN\")\n",
        "           else:\n",
        "               print(\"BIEN\")\n",
        "    else:\n",
        "        if prom >= 60 :\n",
        "           if prom >= 70 :\n",
        "               print(\"REGULAR\")\n",
        "           else:\n",
        "                print(\"SUFICIETE\")\n",
        "        else:\n",
        "            if prom >= 30 :\n",
        "                print(\"EXTRAORDINARIO\")\n",
        "            else:\n",
        "                print(\"REPETIR\")"
      ],
      "metadata": {
        "id": "Zrg1Xjoot6RD",
        "colab": {
          "base_uri": "https://localhost:8080/",
          "height": 0
        },
        "outputId": "bd34dbaa-aafb-4671-bf5f-bda29f548e6d"
      },
      "execution_count": 49,
      "outputs": [
        {
          "output_type": "stream",
          "name": "stdout",
          "text": [
            "Ingrese calificacion 1: 50\n",
            "Ingrese calificacion 2: 90\n",
            "Ingrese calificacion 3: 80\n",
            "REGULAR\n"
          ]
        }
      ]
    },
    {
      "cell_type": "markdown",
      "source": [
        "**2.- Programa en Python que sirva para calcular el salario semanal de un trabajador donde se obtiene como dato de entrada las horas semanales trabajadas, el salario por hora.**\n",
        "\n",
        "**El programa deberá calcular el salario normal, salario extra y salario total**"
      ],
      "metadata": {
        "id": "XXr2EdzqxBDV"
      }
    },
    {
      "cell_type": "code",
      "source": [
        "try:\n",
        "    hrs= int(input(\"ingresa horas semanales trabajadas: \"))\n",
        "    slxhr = int(input(\"ingresa el salario por hora: \"))\n",
        "except ValueError:\n",
        "    print(\"ERROR: INTRODUCE SOLO NUMEROS\")\n",
        "else:\n",
        "    jnormal = 40\n",
        "\n",
        "    if hrs <= jnormal :\n",
        "        slext = 0\n",
        "    elif hrs < 50 :\n",
        "        slext = ((hrs- jnormal) * slxhr) * 2\n",
        "    else:\n",
        "        slext =((hrs - 49 ) * slxhr * 3) + (9 * slxhr) * 2\n",
        "\n",
        "    snormal = slxhr * hrs\n",
        "    print(f\"salario x hora $ {slxhr}\")\n",
        "    print(f\"horas trabajadas {hrs}\")\n",
        "    print(f\"salario normal $ {snormal}\")\n",
        "    print(f\"salario extra $ {slext}\")\n",
        "    print(f\"salario total $ {snormal + slext}\")"
      ],
      "metadata": {
        "id": "GrpnfKPWxGok",
        "colab": {
          "base_uri": "https://localhost:8080/",
          "height": 0
        },
        "outputId": "91145466-4fe4-46ad-c6f3-000cf7190edd"
      },
      "execution_count": 51,
      "outputs": [
        {
          "output_type": "stream",
          "name": "stdout",
          "text": [
            "ingresa horas semanales trabajadas: 41\n",
            "ingresa el salario por hora: 10\n",
            "salario x hora $ 10\n",
            "horas trabajadas 41\n",
            "salario normal $ 410\n",
            "salario extra $ 20\n",
            "salario total $ 430\n"
          ]
        }
      ]
    },
    {
      "cell_type": "markdown",
      "source": [
        "**3.- Programa en Python que sirva para calcular el Total a pagar por consumo de agua, donde el dato de entrada son los M3 de agua consumidos, Tomar en cuenta que se cobra escalonada de la Siguiente manera:**\n",
        "\n",
        "**Rango1: 0 al 4 M3 $50 x facturación sin importar cuánto consumió en este rango**\n",
        "\n",
        "**Rango2: 5 a 15 M3 $8.00 x M3**\n",
        "\n",
        "**Rango3: 16 a 50 M3 $10.00 x M3**\n",
        "\n",
        "**Rango4: 51 M3 en adelante $11.00 x M3**\n",
        "\n",
        "**Nota: Desplegar SubTotal, Iva(16%), y Total a pagar.**\n",
        "\n"
      ],
      "metadata": {
        "id": "ZWrel5ZEHSU9"
      }
    },
    {
      "cell_type": "code",
      "source": [
        "try:\n",
        "    m3 = int(input(\"INNGRESA LOS M3 CONSUMIDOS:\"))\n",
        "    if m3 < 0 :\n",
        "        raise ValueError(\"no puede ingresar numeros negativos\")\n",
        "\n",
        "except ValueError as e:\n",
        "    print(\"error:\", e)\n",
        "\n",
        "except TypeError:\n",
        "    print(\"Error: SOLO INGRESAR NUMEROS ENTEROS\")\n",
        "\n",
        "else:\n",
        "    if m3 >= 16 :\n",
        "        if m3 > 50 :\n",
        "            sub = m3 * 11\n",
        "            iva = sub * 0.16\n",
        "        else:\n",
        "            sub = m3 * 10\n",
        "            iva = sub * 0.16\n",
        "    else:\n",
        "        if m3 >= 5 :\n",
        "            sub = m3 * 8\n",
        "            iva = sub * 0.16\n",
        "        else:\n",
        "            print(\"RANGO 1\")\n",
        "            sub = m3 * 50\n",
        "            iva = sub * 0.16\n",
        "\n",
        "    topag = iva + sub\n",
        "    print(f\"SUBTOTAL      $ {sub}\")\n",
        "    print(f\"Iva(16%)      $ {iva} \")\n",
        "    print(f\"TOTAL A PAGAR $ {topag} \")"
      ],
      "metadata": {
        "id": "EKb4wYI1H8XP",
        "colab": {
          "base_uri": "https://localhost:8080/",
          "height": 0
        },
        "outputId": "b3bc35b8-26e3-4de1-a532-9d7343c67c4c"
      },
      "execution_count": 52,
      "outputs": [
        {
          "output_type": "stream",
          "name": "stdout",
          "text": [
            "INNGRESA LOS M3 CONSUMIDOS:4\n",
            "RANGO 1\n",
            "SUBTOTAL      $ 200\n",
            "Iva(16%)      $ 32.0 \n",
            "TOTAL A PAGAR $ 232.0 \n"
          ]
        }
      ]
    },
    {
      "cell_type": "markdown",
      "source": [
        "**4- En la materia de Metodología de la programación se aplican 5 exámenes, calcular el promedio final de la materia donde la calificación menor de los exámenes se anula y el promedio se calcula en base a 4 exámenes.**\n",
        "\n",
        "**Desplegar el promedio final. y cual es la mas baja que se elimino.**"
      ],
      "metadata": {
        "id": "r_PDHvufSWF_"
      }
    },
    {
      "cell_type": "code",
      "source": [
        "try:\n",
        "    exa1 = int(input(\"Escribe calificacion 1: \"))\n",
        "    if exa1 < 0 or exa1 > 100:\n",
        "        raise ValueError(\"la calificacion debe estar entre 0 y 100\")\n",
        "    exa2 = int(input(\"Escribe calificacion 2: \"))\n",
        "    if exa2 < 0 or exa2 > 100:\n",
        "      raise ValueError(\"la calificacion debe estar entre 0 y 100\")\n",
        "    exa3 = int(input(\"Escribe calificacion 3: \"))\n",
        "    if exa3 < 0 or exa3 > 100:\n",
        "      raise ValueError(\"la calificacion debe estar entre 0 y 100\")\n",
        "    exa4 = int(input(\"Escribe calificacion 4: \"))\n",
        "    if exa4 < 0 or exa4 > 100:\n",
        "      raise ValueError(\"la calificacion debe estar entre 0 y 100\")\n",
        "    exa5 = int(input(\"Escribe calificacion 5: \"))\n",
        "    if exa5 < 0 or exa5 > 100:\n",
        "      raise ValueError(\"la calificacion debe estar entre 0 y 100\")\n",
        "except ValueError as e :\n",
        "     print(\"error:\", e)\n",
        "except TypeError:\n",
        "     print(\"el numero debe ser entero\")\n",
        "else:\n",
        "    menor = exa1\n",
        "\n",
        "    if exa2 < menor:\n",
        "        menor = exa2\n",
        "    if exa3 < menor:\n",
        "        menor = exa3\n",
        "    if exa4 < menor:\n",
        "        menor = exa4\n",
        "    if exa5 < menor:\n",
        "        menor = exa5\n",
        "\n",
        "suma = (exa1 + exa2 + exa3 + exa4 + exa5) - menor\n",
        "prom_final = suma / 4\n",
        "\n",
        "\n",
        "print(f\"el promedio es {prom_final} y la calf mas baja es {menor}\")"
      ],
      "metadata": {
        "colab": {
          "base_uri": "https://localhost:8080/",
          "height": 0
        },
        "id": "senYrWOhT7_e",
        "outputId": "3553cde8-f4ba-456c-c8fe-438e621f3166"
      },
      "execution_count": 54,
      "outputs": [
        {
          "output_type": "stream",
          "name": "stdout",
          "text": [
            "Escribe calificacion 1: 70\n",
            "Escribe calificacion 2: 95\n",
            "Escribe calificacion 3: 45\n",
            "Escribe calificacion 4: 88\n",
            "Escribe calificacion 5: 77\n",
            "el promedio es 82.5 y la calf mas baja es 45\n"
          ]
        }
      ]
    },
    {
      "cell_type": "markdown",
      "source": [
        "**5.- Programa en Python que sirva para el juego del CHINCHAMPU (Piedra, Papel, Tijera) para 1 jugador y la computadora**"
      ],
      "metadata": {
        "id": "jzwTgPPIrrMm"
      }
    },
    {
      "cell_type": "code",
      "source": [
        "import random\n",
        "try:\n",
        "    print(\"Bienvenido al juego de piedra, papel tijera\")\n",
        "    print(\"(este juego solo es de 1 jugador y la computadora)\\n\")\n",
        "    print('\"Elije un opcion\"\\n')\n",
        "    print(\" 1-Piedra\\n 2-Papel\\n 3-Tijera\")\n",
        "    jugador1 = int(input(\" teclea el numero 1, 2 o 3 para jugar: \"))\n",
        "    if jugador1 < 1 or jugador1 > 3:\n",
        "        raise ValueError(\"elige solo una de las opciones en la lista\")\n",
        "except ValueError as e:\n",
        "    print(\"error:\", e)\n",
        "except ValueError:\n",
        "    print(\"Error: ingresa solo numeros\")\n",
        "\n",
        "else:\n",
        "\n",
        "\n",
        "    if jugador1 == 1:\n",
        "        jugador1 = \"piedra\"\n",
        "    elif jugador1 == 2:\n",
        "        jugador1 = \"papel\"\n",
        "    else:\n",
        "        jugadr1 = \"tijera\"\n",
        "\n",
        "    jugador2 = int(random.randint(1,3))\n",
        "\n",
        "    if jugador2 == 1:\n",
        "        jugador2 = \"piedra\"\n",
        "    elif jugador2 == 2:\n",
        "        jugador = \"papel\"\n",
        "    else:\n",
        "        jugador2 = \"tijera\"\n",
        "\n",
        "    print(f\" elgiste: {jugador1}\")\n",
        "    print(f\" computadora: {jugador2}\")\n",
        "    if jugador1 == jugador2:\n",
        "        print(\" empate\")\n",
        "    elif ((jugador1 == \"piedra\" and jugador2 == \"tijera\")\n",
        "        or (jugador1 == \"papel\" and jugador2 == \"piedra\")\n",
        "        or (jugador1 == \"tijera\" and jugador2 == \"papel\")):\n",
        "        print(\" ganaste\")\n",
        "    else:\n",
        "        print(\" te gano la computadora\")\n",
        "\n",
        "\n",
        "\n",
        "\n",
        ""
      ],
      "metadata": {
        "colab": {
          "base_uri": "https://localhost:8080/",
          "height": 0
        },
        "id": "uu2h0Zsqr6H9",
        "outputId": "d8ab0d32-cb54-4986-8253-28022302cab4"
      },
      "execution_count": 55,
      "outputs": [
        {
          "output_type": "stream",
          "name": "stdout",
          "text": [
            "Bienvenido al juego de piedra, papel tijera\n",
            "(este juego solo es de 1 jugador y la computadora)\n",
            "\n",
            "\"Elije un opcion\"\n",
            "\n",
            " 1-Piedra\n",
            " 2-Papel\n",
            " 3-Tijera\n",
            " teclea el numero 1, 2 o 3 para jugar: 1\n",
            " elgiste: piedra\n",
            " computadora: tijera\n",
            " ganaste\n"
          ]
        }
      ]
    },
    {
      "cell_type": "markdown",
      "source": [
        "**6.- Programa en Python que lea 4 números enteros desplegar cuales el menor, cual es mayor**\n",
        "\n"
      ],
      "metadata": {
        "id": "K6v3gqr6VI12"
      }
    },
    {
      "cell_type": "code",
      "source": [
        "try:\n",
        "    num1 = int(input(\"Ingresa el primer numero: \"))\n",
        "    num2 = int(input(\"ingresa el segundo numero: \"))\n",
        "    num3 = int(input(\"INgresa el tercer numro: \"))\n",
        "    num4 = int(input(\"INgresa el cuarto numero: \"))\n",
        "except ValueError:\n",
        "    print(\"error: ingresa solo numeros enteros\")\n",
        "except:\n",
        "    print(\"ocurrio un error\")\n",
        "\n",
        "else:\n",
        "\n",
        "    menor = num1\n",
        "    mayor = num1\n",
        "\n",
        "    if num2 < menor:\n",
        "        menor = num2\n",
        "    if num3 < menor:\n",
        "        menor = num3\n",
        "    if num4 < menor:\n",
        "        menor = num4\n",
        "    if num2 > mayor:\n",
        "        mayor = num2\n",
        "    if num3 > mayor:\n",
        "        mayor = num3\n",
        "    if num4 > mayor:\n",
        "        mayor = num4\n",
        "\n",
        "    print(f\"{num1} {num2} {num3} {num4}\\nel menor es {menor} y el mayor es {mayor}\")\n"
      ],
      "metadata": {
        "colab": {
          "base_uri": "https://localhost:8080/",
          "height": 0
        },
        "id": "6YRGIk2bVOu-",
        "outputId": "57db0eae-9ebd-4b2b-cc37-9955345098de"
      },
      "execution_count": 56,
      "outputs": [
        {
          "output_type": "stream",
          "name": "stdout",
          "text": [
            "Ingresa el primer numero: 4\n",
            "ingresa el segundo numero: 8\n",
            "INgresa el tercer numro: 1\n",
            "INgresa el cuarto numero: 5\n",
            "4 8 1 5\n",
            "el menor es 1 y el mayor es 8\n"
          ]
        }
      ]
    },
    {
      "cell_type": "markdown",
      "source": [
        "**7.- Programa en Python que sirva para calcular el área de un triangulo, los datos de entrada deben ser forzosamente de tipo real**\n",
        "\n"
      ],
      "metadata": {
        "id": "vcgBgoqbZ666"
      }
    },
    {
      "cell_type": "code",
      "source": [
        "try:\n",
        "   base = float(input(\"ingresa la base del triangulo:\"))\n",
        "   altura = float(input(\"Ingresa la altura del triangulo:\"))\n",
        "   area = (base * altura) / 2\n",
        "except ValueError:\n",
        "    print(\"error: ingresa solo valores reales\")\n",
        "except:\n",
        "    print(\"error de captura\")\n",
        "else:\n",
        "    print(f\"el area del triangulo es {area}\")"
      ],
      "metadata": {
        "colab": {
          "base_uri": "https://localhost:8080/",
          "height": 0
        },
        "id": "ykiJ2SSzaAHX",
        "outputId": "89c7dc8e-a74c-4f35-bbf7-e807be54775f"
      },
      "execution_count": 57,
      "outputs": [
        {
          "output_type": "stream",
          "name": "stdout",
          "text": [
            "ingresa la base del triangulo:2\n",
            "Ingresa la altura del triangulo:2\n",
            "el area del triangulo es 2.0\n"
          ]
        }
      ]
    },
    {
      "cell_type": "markdown",
      "source": [
        "8.- **Programa en Python que sirva para calcular el área de un circulo**\n",
        "\n"
      ],
      "metadata": {
        "id": "KtFcUbBUePae"
      }
    },
    {
      "cell_type": "code",
      "source": [
        "try:\n",
        "    radio = int(input(\"Ingresa el radio del circulo: \"))\n",
        "    if radio == 0 :\n",
        "        raise ValueError(\"el radio no  tiene que ser 0\")\n",
        "    area_cir= 3.1416 * ( radio * radio)\n",
        "except ValueError as e :\n",
        "    print(\"Error:\", e)\n",
        "except ValueError:\n",
        "    print(\"error: ingresa solo numeros\")\n",
        "else:\n",
        "    print(f\"el area del circulo es {area_cir}\")"
      ],
      "metadata": {
        "colab": {
          "base_uri": "https://localhost:8080/",
          "height": 0
        },
        "id": "SiXQbM5meVEW",
        "outputId": "be005d42-602d-4fee-d8d5-710d83ecb84d"
      },
      "execution_count": 59,
      "outputs": [
        {
          "output_type": "stream",
          "name": "stdout",
          "text": [
            "Ingresa el radio del circulo: 1\n",
            "el area del circulo es 3.1416\n"
          ]
        }
      ]
    }
  ]
}