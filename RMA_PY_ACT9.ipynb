{
  "cells": [
    {
      "cell_type": "markdown",
      "metadata": {
        "id": "view-in-github",
        "colab_type": "text"
      },
      "source": [
        "<a href=\"https://colab.research.google.com/github/Ray366108/Python-2023/blob/main/actividad9_23.ipynb\" target=\"_parent\"><img src=\"https://colab.research.google.com/assets/colab-badge.svg\" alt=\"Open In Colab\"/></a>"
      ]
    },
    {
      "cell_type": "code",
      "execution_count": 1,
      "metadata": {
        "id": "NRi3Il9kfbxQ"
      },
      "outputs": [],
      "source": [
        "from IPython.display import clear_output\n",
        "import random"
      ]
    },
    {
      "cell_type": "code",
      "execution_count": 2,
      "metadata": {
        "id": "GI_RLLbKcK1G"
      },
      "outputs": [],
      "source": [
        "def valida_num(opcion, minimo, maximo):\n",
        "\n",
        "    while True:\n",
        "        try:\n",
        "\n",
        "            valor = int(input(opcion))\n",
        "            if valor < minimo or valor > maximo:\n",
        "                raise ValueError(f\"Errr: ingresa valores entre {minimo} y {maximo}\")\n",
        "            else:\n",
        "                return valor\n",
        "        except ValueError as e:\n",
        "            print(\"error:\", e)\n",
        "        except ValueError:\n",
        "            print(\"Error: deber ingresar un valor numerico\")"
      ]
    },
    {
      "cell_type": "code",
      "execution_count": 3,
      "metadata": {
        "id": "7ROFT0P-fvlG"
      },
      "outputs": [],
      "source": [
        "def menu():\n",
        "    while True:\n",
        "\n",
        "        print(\"1.- Crear diccionario\")\n",
        "        print(\"2.- Imprimir diccionario\")\n",
        "        print(\"0.- Salir\")\n",
        "\n",
        "        opcion = valida_num(\"Escoge una opcion:\", 0, 2)\n",
        "\n",
        "        if opcion == 0:\n",
        "            break\n",
        "        elif opcion == 1:\n",
        "            clear_output()\n",
        "            crear_dicc()\n",
        "        elif opcion == 2:\n",
        "            clear_output()\n",
        "            imprime_dicc()\n"
      ]
    },
    {
      "cell_type": "code",
      "execution_count": 20,
      "metadata": {
        "id": "uG1jpVDXg5v2"
      },
      "outputs": [],
      "source": [
        "def crear_dicc():\n",
        "    matri = random.randint(300000, 399999)\n",
        "    edad = random.randint(17, 50)\n",
        "    sex_ = [\"MASCULINO\", \"FEMENINO\"]\n",
        "    sexo = random.choice(sex_)\n",
        "    list_nom = [\"FEDERICO\", \"LALO\", \"MAURUCIO\", \"JESUS\", \"PATRICIO\", \"RENE\",\n",
        "                \"ANNA\",\"ANUEL\", \"CRISTINA\", \"MARTA\", \"SOFIA\", \"JOSE\", \"LAURA\", \"ROFRIGO\",\n",
        "                \"JASON\", \"KENNETH\", \"MISAEL\", \"IVAN\", \"LUCERO\", \"PAULINA\", \"DANIEL\"]\n",
        "    nom = ' '.join(random.choices(list_nom, k = random.randint(1, 2)))\n",
        "    list_appat = [\"SANCHEZ\", \"GOZALEZ\", \"MARTINEZ\", \"RODRIGUEZ\", \"MANTEQUILLA\", \"KAKINO\",\n",
        "                  \"PEREZ\", \"RAMIREZ\", \"CRUZ\", \"RONALDO\", \"BICHO\", \"JACKSON\", \"WALKER\",\n",
        "                  \"STUART\", \"FERNANDEZ\", \"NELSON\"]\n",
        "    appat = random.choice(list_appat)\n",
        "    list_apmat = [\"LOPEZ\", \"HERNANDEZ\", \"MAYONESO\", \"SIMPSON\", \"SMITH\",\"BEYONCE\",\n",
        "                  \"STATAN\", \"WILSON\", \"ADKINS\", \"QUINTANILLA\", \"DRAKE\", \"CASTRO\",\n",
        "                  \"RAMOS\", \"CASILLAS\", \"YANG\"]\n",
        "    apmat = random.choice(list_apmat)\n",
        "\n",
        "    dicc = {}\n",
        "\n",
        "    dicc = {\"Id\": matri,\n",
        "    \"Nombre\": nom,\n",
        "    \"Apellido paterno\": appat,\n",
        "    \"Apellido materno\": apmat,\n",
        "    \"Edad\": edad,\n",
        "    \"Sexo\": sexo}\n",
        "\n",
        "\n",
        "    return dicc\n",
        "    clear_output()"
      ]
    },
    {
      "cell_type": "code",
      "execution_count": 5,
      "metadata": {
        "id": "fCKoYdDEiXto"
      },
      "outputs": [],
      "source": [
        "def imprime_dicc():\n",
        "    diccionario = crear_dicc()\n",
        "    print(\"Datos del alumno\")\n",
        "    for key in diccionario:\n",
        "        print(key,\":\", diccionario[key])\n",
        "    input(\"Preciona enter para continuar\")\n",
        "    clear_output()"
      ]
    },
    {
      "cell_type": "code",
      "execution_count": null,
      "metadata": {
        "colab": {
          "base_uri": "https://localhost:8080/",
          "height": 0
        },
        "id": "2i_R6ucEhDv4",
        "outputId": "4dcf17d6-e318-4af7-e9df-4992ea995798"
      },
      "outputs": [
        {
          "output_type": "stream",
          "name": "stdout",
          "text": [
            "Datos del alumno\n",
            "Id : 314226\n",
            "Nombre : DANIEL CRISTINA\n",
            "Apellido paterno : MARTINEZ\n",
            "Apellido materno : SMITH\n",
            "Edad : 19\n",
            "Sexo : FEMENINO\n"
          ]
        }
      ],
      "source": [
        "menu()"
      ]
    }
  ],
  "metadata": {
    "colab": {
      "provenance": [],
      "authorship_tag": "ABX9TyPVIbnhjvR8FLgl05nx36Ew",
      "include_colab_link": true
    },
    "kernelspec": {
      "display_name": "Python 3",
      "name": "python3"
    },
    "language_info": {
      "name": "python"
    }
  },
  "nbformat": 4,
  "nbformat_minor": 0
}
