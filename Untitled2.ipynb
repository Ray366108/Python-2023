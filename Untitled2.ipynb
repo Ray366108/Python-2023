{
  "nbformat": 4,
  "nbformat_minor": 0,
  "metadata": {
    "colab": {
      "provenance": [],
      "authorship_tag": "ABX9TyOmFxj99FzMyJ5t+LYrBuCs",
      "include_colab_link": true
    },
    "kernelspec": {
      "name": "python3",
      "display_name": "Python 3"
    },
    "language_info": {
      "name": "python"
    }
  },
  "cells": [
    {
      "cell_type": "markdown",
      "metadata": {
        "id": "view-in-github",
        "colab_type": "text"
      },
      "source": [
        "<a href=\"https://colab.research.google.com/github/Ray366108/Python-2023/blob/main/Untitled2.ipynb\" target=\"_parent\"><img src=\"https://colab.research.google.com/assets/colab-badge.svg\" alt=\"Open In Colab\"/></a>"
      ]
    },
    {
      "cell_type": "code",
      "execution_count": 3,
      "metadata": {
        "id": "0Hwdy-NM_Qwg"
      },
      "outputs": [],
      "source": [
        "def valida_num(opcion, minimo, maximo):\n",
        "\n",
        "    while True:\n",
        "        try:\n",
        "\n",
        "            valor = int(input(opcion))\n",
        "            if valor < minimo or valor > maximo:\n",
        "                raise ValueError(f\"solo agregar valores entre {minimo} y {maximo}\")\n",
        "            else:\n",
        "                return valor\n",
        "        except ValueError as e:\n",
        "            print(\"error:\", e)\n",
        "        except ValueError:\n",
        "            print(\"Error: deber ingresar un valor numerico\")"
      ]
    },
    {
      "cell_type": "code",
      "source": [
        "def area_triangulo():\n",
        "\n",
        "    base = valida_num(\"Dame la base del trianngulo: \", 1, 1000)\n",
        "    altura = valida_num(\"Dame la altura del triangulo: \", 1, 1000)\n",
        "    area = (base * altura) / 2\n",
        "\n",
        "    return area"
      ],
      "metadata": {
        "id": "6ARdfPD7ARJe"
      },
      "execution_count": 12,
      "outputs": []
    },
    {
      "cell_type": "code",
      "source": [
        "print(\"PROGRAMA QUE CALCULA EL AREA DE UN TRIANGULO\")\n",
        "\n",
        "area_del_tri = area_triangulo()\n",
        "print(f\"El area del triangulo es: \", area_del_tri)"
      ],
      "metadata": {
        "colab": {
          "base_uri": "https://localhost:8080/"
        },
        "id": "iLplGk-dBduW",
        "outputId": "37fa7bdf-0b83-4d62-c228-eba83b57110c"
      },
      "execution_count": 14,
      "outputs": [
        {
          "output_type": "stream",
          "name": "stdout",
          "text": [
            "PROGRAMA QUE CALCULA EL AREA DE UN TRIANGULO\n",
            "Dame la base del trianngulo: 10\n",
            "Dame la altura del triangulo: 2\n",
            "El area del triangulo es:  10.0\n"
          ]
        }
      ]
    }
  ]
}