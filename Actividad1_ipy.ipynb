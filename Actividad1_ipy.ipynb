{
  "nbformat": 4,
  "nbformat_minor": 0,
  "metadata": {
    "colab": {
      "provenance": [],
      "authorship_tag": "ABX9TyMu0YJX/xyc4rfn2OAUmkFu",
      "include_colab_link": true
    },
    "kernelspec": {
      "name": "python3",
      "display_name": "Python 3"
    },
    "language_info": {
      "name": "python"
    }
  },
  "cells": [
    {
      "cell_type": "markdown",
      "metadata": {
        "id": "view-in-github",
        "colab_type": "text"
      },
      "source": [
        "<a href=\"https://colab.research.google.com/github/Ray366108/python/blob/main/Actividad1_ipy.ipynb\" target=\"_parent\"><img src=\"https://colab.research.google.com/assets/colab-badge.svg\" alt=\"Open In Colab\"/></a>"
      ]
    },
    {
      "cell_type": "markdown",
      "source": [
        "Raymundo Miguel Aguilera                                14-02-23\n",
        "\n",
        "**Actividad 1**"
      ],
      "metadata": {
        "id": "XP5sAiQL0N5j"
      }
    },
    {
      "cell_type": "markdown",
      "source": [
        "**1.- Programa en Python Mostrar un mensaje que diga “HOLA MUNDO” en un solo renglón usando 2 print** "
      ],
      "metadata": {
        "id": "jTzmQRzizqhy"
      }
    },
    {
      "cell_type": "code",
      "execution_count": null,
      "metadata": {
        "colab": {
          "base_uri": "https://localhost:8080/"
        },
        "id": "UzLa3oKbyzfI",
        "outputId": "d364e192-2196-44a8-df75-cd50a15b60ef"
      },
      "outputs": [
        {
          "output_type": "stream",
          "name": "stdout",
          "text": [
            "Hola Mundo\n"
          ]
        }
      ],
      "source": [
        "print(\"Hola \", end=\"\")\n",
        "print(\"Mundo\")"
      ]
    },
    {
      "cell_type": "markdown",
      "source": [
        "**2.- Programa en Python que lea 2 números, realizar la suma y desplegar la suma de los 2 números**"
      ],
      "metadata": {
        "id": "WRRe0bYdzn5W"
      }
    },
    {
      "cell_type": "markdown",
      "source": [],
      "metadata": {
        "id": "ry9pDYON057p"
      }
    },
    {
      "cell_type": "code",
      "source": [
        "numero1 = int(input(\"Dame un numero: \"))\n",
        "numero2 = int(input(\"Dame un numero: \"))\n",
        "print(f\"La suma de los dos numeros es {numero1 + numero2}.\")"
      ],
      "metadata": {
        "colab": {
          "base_uri": "https://localhost:8080/"
        },
        "id": "pXeiyMhs0LSk",
        "outputId": "5524693a-477a-45c1-b049-be783451cf8e"
      },
      "execution_count": null,
      "outputs": [
        {
          "output_type": "stream",
          "name": "stdout",
          "text": [
            "Dame un numero: 20\n",
            "Dame un numero: 20\n",
            "La suma de los dos numeros es 40.\n"
          ]
        }
      ]
    },
    {
      "cell_type": "markdown",
      "source": [
        "**3.- Programa en Python que lea 2 números y realice las 4 operaciones básicas** "
      ],
      "metadata": {
        "id": "V-qR6fOEBv45"
      }
    },
    {
      "cell_type": "code",
      "source": [
        "numero1 = int(input(\"Dame un numero:\"))\n",
        "numero2 = int(input(\"Dame un numero:\"))\n",
        "print(f\"La suma de los dos numeros es: {numero1 + numero2}\")\n",
        "print(f\"La resta de los dos numeros es: {numero1 - numero2}\")\n",
        "print(f\"La multiplicacion de los dos numeros es: {numero1 * numero2}\")\n",
        "print(f\"La Divicion de los dos numeros es {numero1 / numero2}\")"
      ],
      "metadata": {
        "colab": {
          "base_uri": "https://localhost:8080/"
        },
        "id": "Aq7MAYcvCGfg",
        "outputId": "2819bad6-6de5-4b2a-f98e-b7cc13f38042"
      },
      "execution_count": null,
      "outputs": [
        {
          "output_type": "stream",
          "name": "stdout",
          "text": [
            "Dame un numero: 10\n",
            "Dame un numero: 6\n",
            "La suma de los dos numeros es: 16\n",
            "La resta de los dos numeros es: 4\n",
            "La multiplicacion de los dos numeros es: 60\n",
            "La Divicion de los dos numeros es 1.6666666666666667\n"
          ]
        }
      ]
    },
    {
      "cell_type": "markdown",
      "source": [
        "**4.- Programa en Python Que sirva para calcular el área de un triángulo**"
      ],
      "metadata": {
        "id": "dNkaDXezGL-R"
      }
    },
    {
      "cell_type": "code",
      "source": [
        "base   = int(input(\"Ingresa el valor de la base: \"))\n",
        "altura = int(input(\"Ingresa el valor de la altura: \"))\n",
        "print(f\"El area del triangulo es {(base * altura) / 2} unidades cuadradas\")"
      ],
      "metadata": {
        "colab": {
          "base_uri": "https://localhost:8080/"
        },
        "id": "GjnuW31EGYUf",
        "outputId": "e02dd1e5-4a11-4610-d46e-bb624fe048bd"
      },
      "execution_count": null,
      "outputs": [
        {
          "output_type": "stream",
          "name": "stdout",
          "text": [
            "Ingresa el valor de la base: 3\n",
            "Ingresa el valor de la altura: 4\n",
            "El area del triangulo es 6.0 unidades cuadradas\n"
          ]
        }
      ]
    },
    {
      "cell_type": "markdown",
      "source": [
        "**5.- Programa en Python que lea una medida en centímetros y desplegar la misma medida pero convertida en pies y pulgadas**"
      ],
      "metadata": {
        "id": "wFOnGsZLI3ZI"
      }
    },
    {
      "cell_type": "code",
      "source": [
        "centimetros = float(input(\"Dame una medida en centimetros: \"))\n",
        "print(f\"En pies es: {centimetros * (0.032808399 / 1 )}\")\n",
        "print(f\"En pulgadas  es: {centimetros * (0.3937007874/ 1 )}\")"
      ],
      "metadata": {
        "colab": {
          "base_uri": "https://localhost:8080/"
        },
        "id": "6CCAHT1nJCFX",
        "outputId": "b509c032-630b-466f-e54e-eceb8000de77"
      },
      "execution_count": null,
      "outputs": [
        {
          "output_type": "stream",
          "name": "stdout",
          "text": [
            "Dame una medida en centimetros: 10\n",
            "En pies es: 0.32808399\n",
            "En pulgadas  es: 3.937007874\n"
          ]
        }
      ]
    },
    {
      "cell_type": "markdown",
      "source": [
        "**6.- Programa en Python que lea una temperatura en grados centígrados y desplegarla en Grados Fahrenheit y grados kelvin**"
      ],
      "metadata": {
        "id": "MapB7dloMlwu"
      }
    },
    {
      "cell_type": "code",
      "source": [
        "celsius = float(input(\"Dame una temperatura en grados celsius:\"))\n",
        "print(f\"La temperatura en Grados Fahrenheit es: {(9 / 5) * celsius + 32}\")\n",
        "print(f\"La temperatura en Grados kelvin es: {celsius + 273.15}\")"
      ],
      "metadata": {
        "colab": {
          "base_uri": "https://localhost:8080/"
        },
        "id": "k455BkVjMyBb",
        "outputId": "50d08afe-c211-4fbb-bd09-8517f398b693"
      },
      "execution_count": null,
      "outputs": [
        {
          "output_type": "stream",
          "name": "stdout",
          "text": [
            "Dame una temperatura en grados celsius:32\n",
            "La temperatura en Grados Fahrenheit es: 89.6\n",
            "La temperatura en Grados kelvin es: 305.15\n"
          ]
        }
      ]
    },
    {
      "cell_type": "markdown",
      "source": [
        "**7.- Programa en Python que lea 4 calificaciones de un alumno, desplegar el promedio del alumno**"
      ],
      "metadata": {
        "id": "baZZoCI7PScu"
      }
    },
    {
      "cell_type": "code",
      "source": [
        "calificacion1 = float(input(\"Dame la calificacion 1: \"))\n",
        "calificacion2 = float(input(\"Dame la calificacion 2: \"))\n",
        "calificacion3 = float(input(\"Dame la calificacion 3: \"))\n",
        "calificacion4 = float(input(\"Dame la calificacion 4: \"))\n",
        "print(f\"\\n1El promedio es: {(calificacion1 + calificacion2 + calificacion3 + calificacion4) / 4}\")"
      ],
      "metadata": {
        "colab": {
          "base_uri": "https://localhost:8080/"
        },
        "id": "90tadqHyPgT_",
        "outputId": "7fca2862-111f-47f3-ff49-a92a1c82ae19"
      },
      "execution_count": null,
      "outputs": [
        {
          "output_type": "stream",
          "name": "stdout",
          "text": [
            "Dame la calificacion 1: 10\n",
            "Dame la calificacion 2: 10\n",
            "Dame la calificacion 3: 10\n",
            "Dame la calificacion 4: 10\n",
            "\n",
            "El promedio es: 10.0\n"
          ]
        }
      ]
    }
  ]
}