{
  "nbformat": 4,
  "nbformat_minor": 0,
  "metadata": {
    "colab": {
      "provenance": [],
      "authorship_tag": "ABX9TyNN/VjuOGHD5tVOTqlcCpUV",
      "include_colab_link": true
    },
    "kernelspec": {
      "name": "python3",
      "display_name": "Python 3"
    },
    "language_info": {
      "name": "python"
    }
  },
  "cells": [
    {
      "cell_type": "markdown",
      "metadata": {
        "id": "view-in-github",
        "colab_type": "text"
      },
      "source": [
        "<a href=\"https://colab.research.google.com/github/Ray366108/Python-Act/blob/main/actividad9.ipynb\" target=\"_parent\"><img src=\"https://colab.research.google.com/assets/colab-badge.svg\" alt=\"Open In Colab\"/></a>"
      ]
    },
    {
      "cell_type": "code",
      "source": [
        "from IPython.display import clear_output\n",
        "import random"
      ],
      "metadata": {
        "id": "NRi3Il9kfbxQ"
      },
      "execution_count": 3,
      "outputs": []
    },
    {
      "cell_type": "code",
      "execution_count": 4,
      "metadata": {
        "id": "GI_RLLbKcK1G"
      },
      "outputs": [],
      "source": [
        "def valida_num(opcion, minimo, maximo):\n",
        "\n",
        "    while True:\n",
        "        try:\n",
        "\n",
        "            valor = int(input(opcion))\n",
        "            if valor < minimo or valor > maximo:\n",
        "                raise ValueError(f\"solo agregar valores entre {minimo} y {maximo}\")\n",
        "            else:\n",
        "                return valor\n",
        "        except ValueError as e:\n",
        "            print(\"error:\", e)\n",
        "        except ValueError:\n",
        "            print(\"Error: deber ingresar un valor numerico\")"
      ]
    },
    {
      "cell_type": "code",
      "source": [
        "def menu():\n",
        "    while True:\n",
        "\n",
        "        print(\"1.- Crear diccionario\")\n",
        "        print(\"2.- Imprimir diccionario\")\n",
        "        print(\"0.- Salir\")\n",
        "\n",
        "        opcion = valida_num(\"Escoge una opcion:\", 0, 2)\n",
        "\n",
        "        if opcion == 0:\n",
        "            break\n",
        "        elif opcion == 1:\n",
        "            clear_output()\n",
        "            crear_dicc()\n",
        "        elif opcion == 2:\n",
        "            clear_output()\n",
        "            imprime_dicc()\n"
      ],
      "metadata": {
        "id": "7ROFT0P-fvlG"
      },
      "execution_count": 37,
      "outputs": []
    },
    {
      "cell_type": "code",
      "source": [
        "def crear_dicc():\n",
        "    matri = random.randint(300000, 399999)\n",
        "    edad = random.randint(17, 50)\n",
        "    sex_ = [\"MASCULINO\", \"FEMENINO\"]\n",
        "    sexo = random.choice(sex_)\n",
        "    list_nom = [\"FEDERICO\", \"LALO\", \"MAURUCIO\", \"JESUS\", \"LUCAS\", \"RENE\" ]\n",
        "    nom = random.choice(list_nom)\n",
        "    list_appat = [\"SANCHEZ\", \"GOZALEZ\", \"MARTINEZ\", \"RODRIGUEZ\", \"MANTEQUILLA\", \"KAKINO\"]\n",
        "    appat = random.choice(list_appat)\n",
        "    list_apmat = [\"LOPEZ\", \"HERNANDEZ\", \"MAYONESO\", \"SIMPSON\", \"SMITH\"]\n",
        "    apmat = random.choice(list_apmat)\n",
        "\n",
        "    dicc = {}\n",
        "\n",
        "    dicc = {\"Id\": matri,\n",
        "    \"Nombre\": nom,\n",
        "    \"Apellido paterno\": appat,\n",
        "    \"Apellido materno\": apmat,\n",
        "    \"Edad\": edad,\n",
        "    \"Sexo\": sexo}\n",
        "\n",
        "\n",
        "    return dicc\n",
        "    clear_output()"
      ],
      "metadata": {
        "id": "uG1jpVDXg5v2"
      },
      "execution_count": 78,
      "outputs": []
    },
    {
      "cell_type": "code",
      "source": [
        "def imprime_dicc():\n",
        "    diccionario = crear_dicc()\n",
        "    print(\"Datos del alumno\")\n",
        "    for key in diccionario:\n",
        "        print(key,\":\", diccionario[key])\n",
        "    input(\"Preciona enter para continuar\")\n",
        "    clear_output()"
      ],
      "metadata": {
        "id": "fCKoYdDEiXto"
      },
      "execution_count": 84,
      "outputs": []
    },
    {
      "cell_type": "code",
      "source": [
        "menu()"
      ],
      "metadata": {
        "colab": {
          "base_uri": "https://localhost:8080/"
        },
        "id": "2i_R6ucEhDv4",
        "outputId": "1768aa80-9fc1-4014-a014-1552b71898a3"
      },
      "execution_count": 93,
      "outputs": [
        {
          "name": "stdout",
          "output_type": "stream",
          "text": [
            "1.- Crear diccionario\n",
            "2.- Imprimir diccionario\n",
            "0.- Salir\n",
            "Escoge una opcion:0\n"
          ]
        }
      ]
    }
  ]
}