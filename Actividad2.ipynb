{
  "nbformat": 4,
  "nbformat_minor": 0,
  "metadata": {
    "colab": {
      "provenance": [],
      "authorship_tag": "ABX9TyO2qr3+g6i9OZSlgDTn7wy2",
      "include_colab_link": true
    },
    "kernelspec": {
      "name": "python3",
      "display_name": "Python 3"
    },
    "language_info": {
      "name": "python"
    }
  },
  "cells": [
    {
      "cell_type": "markdown",
      "metadata": {
        "id": "view-in-github",
        "colab_type": "text"
      },
      "source": [
        "<a href=\"https://colab.research.google.com/github/Ray366108/python/blob/main/Actividad2.ipynb\" target=\"_parent\"><img src=\"https://colab.research.google.com/assets/colab-badge.svg\" alt=\"Open In Colab\"/></a>"
      ]
    },
    {
      "cell_type": "markdown",
      "source": [
        "CONDICIÓN SIMPLE"
      ],
      "metadata": {
        "id": "J_-KVxkDBbmH"
      }
    },
    {
      "cell_type": "markdown",
      "source": [
        "**1.- Programa en Python que lea 2 números enteros, usar una condición y analizar los dos números y desplegar cual de los números es el mayor.**"
      ],
      "metadata": {
        "id": "MImQO0L5z4Bk"
      }
    },
    {
      "cell_type": "code",
      "execution_count": 2,
      "metadata": {
        "colab": {
          "base_uri": "https://localhost:8080/"
        },
        "id": "9CV4Of0pzvym",
        "outputId": "87c66f48-599e-4ac9-a94f-a7186d6f265a"
      },
      "outputs": [
        {
          "output_type": "stream",
          "name": "stdout",
          "text": [
            "Dame un numero: 10\n",
            "Dame el segundo numero: 5\n",
            "El mayor es 10\n"
          ]
        }
      ],
      "source": [
        "num1 = int(input(\"Dame un numero: \"))\n",
        "num2 = int(input(\"Dame el segundo numero: \"))\n",
        "if num1 > num2:\n",
        "    print(f\"El mayor es {num1}\")\n",
        "if num2 > num1:\n",
        "    print(f\"El mayor es {num2}\")\n",
        "      "
      ]
    },
    {
      "cell_type": "markdown",
      "source": [
        "**2.- Programa en PythonAlgoritmo que lea 4 calificaciones de un alumno, calcular y desplegar el promedio acompañado de la leyenda \"APROBADO\" o \"REPROBADO\"**"
      ],
      "metadata": {
        "id": "pm9Q_IraAYK0"
      }
    },
    {
      "cell_type": "code",
      "source": [
        "calif1 = int(input(\"Ingresa calificacion 1: \"))\n",
        "calif2 = int(input(\"Ingresa calificacion 2: \"))\n",
        "calif3 = int(input(\"Ingresa calificacion 3: \"))\n",
        "calif4 = int(input(\"Ingresa calificacion 4: \"))\n",
        "promedio = (calif1 + calif2 + calif3 + calif4) / 4\n",
        "if promedio >= 60:\n",
        "    print((f\"\\n\\\"APROBADO\\\" con calificacion de {promedio}\"))\n",
        "if promedio < 60:\n",
        "    print((f\"\\n\\\"REPROBADO\\\" con calificacion de {promedio}\"))"
      ],
      "metadata": {
        "colab": {
          "base_uri": "https://localhost:8080/"
        },
        "id": "adXJ29LjAgF7",
        "outputId": "b9ce55ff-33cb-492b-d38b-699675b121fa"
      },
      "execution_count": 64,
      "outputs": [
        {
          "output_type": "stream",
          "name": "stdout",
          "text": [
            "Ingresa calificacion 1: 83\n",
            "Ingresa calificacion 2: 93\n",
            "Ingresa calificacion 3: 76\n",
            "Ingresa calificacion 4: 98\n",
            "\n",
            "\"APROBADO\" con calificacion de 87.5\n"
          ]
        }
      ]
    },
    {
      "cell_type": "markdown",
      "source": [
        "**3.- Programa en PythonAlgoritmo que a través de opciones (1.- HOMBRE 2.- MUJER ) preguntar al usuario cual es su sexo y desplegar la leyenda “HOMBRE ”, “MUJER”**"
      ],
      "metadata": {
        "id": "43nq5QPbJoWx"
      }
    },
    {
      "cell_type": "code",
      "source": [
        "print(\"¿Cual es su sexo?\")\n",
        "print(\"1.-HOMBRE\")\n",
        "print(\"2.-MUJER\")\n",
        "opcion = int(input(\"Teclee el numero 1 si es hombre, 2 si es mujer:\"))\n",
        "if opcion == 1:\n",
        "    print((f\"\\\"HOMBRE\\\"\"))\n",
        "if opcion == 2:\n",
        "    print((f\"\\\"MUJER\\\"\"))\n",
        "\n"
      ],
      "metadata": {
        "colab": {
          "base_uri": "https://localhost:8080/"
        },
        "id": "vaR9Ms9LJ07x",
        "outputId": "11dee9ca-bae0-4f62-8812-fbc1cb9afd67"
      },
      "execution_count": 61,
      "outputs": [
        {
          "output_type": "stream",
          "name": "stdout",
          "text": [
            "¿Cual es su sexo?\n",
            "1.-HOMBRE\n",
            "2.-MUJER\n",
            "Teclee el numero 1 si es hombre, 2 si es mujer:1\n",
            "\"HOMBRE\"\n"
          ]
        }
      ]
    },
    {
      "cell_type": "markdown",
      "source": [
        "**4.- Programa en Python que lea un número entero, y desplegar si el número es “PAR” o “IMPAR”**"
      ],
      "metadata": {
        "id": "Lo2ZMUMp1mgp"
      }
    },
    {
      "cell_type": "code",
      "source": [
        "numero = int(input(\"ingresa un numero entero:\"))\n",
        "x= numero % 2\n",
        "if x == 0:\n",
        "    print(\"Es par\")\n",
        "if x == 1:\n",
        "    print(\"Es impar\")\n"
      ],
      "metadata": {
        "colab": {
          "base_uri": "https://localhost:8080/"
        },
        "id": "hbeLrziy16ti",
        "outputId": "c02f498d-c4c0-4c71-9aa2-6a49c9406d2a"
      },
      "execution_count": 53,
      "outputs": [
        {
          "output_type": "stream",
          "name": "stdout",
          "text": [
            "ingresa un numero entero:15\n",
            "Es impar\n"
          ]
        }
      ]
    },
    {
      "cell_type": "markdown",
      "source": [
        "CONDICIÓN COMPUESTA"
      ],
      "metadata": {
        "id": "W9XoaC5nG1dy"
      }
    },
    {
      "cell_type": "markdown",
      "source": [
        "**5.- Programa en Python que lea 2 números enteros, usar una condición y analizar los dos números y desplegar cual de los números es el mayor.**"
      ],
      "metadata": {
        "id": "j6dPGbaU_j7X"
      }
    },
    {
      "cell_type": "code",
      "source": [
        "num1 = int(input(\"Ingrese un numero: \"))\n",
        "num2 = int(input(\"Ingrese el segundo numero: \"))\n",
        "if num1 > num2:\n",
        "    print((f\"El mayor es el {num1}\"))\n",
        "else:\n",
        "    print((f\"El mayor es el {num2}\"))"
      ],
      "metadata": {
        "colab": {
          "base_uri": "https://localhost:8080/"
        },
        "id": "Ct_kttfL_z3f",
        "outputId": "1153a171-3187-46e4-ace1-880e788b7835"
      },
      "execution_count": 60,
      "outputs": [
        {
          "output_type": "stream",
          "name": "stdout",
          "text": [
            "Ingrese un numero: 100066\n",
            "Ingrese el segundo numero: 500\n",
            "El mayor es el 100066\n"
          ]
        }
      ]
    },
    {
      "cell_type": "markdown",
      "source": [
        "**6.- Programa en Python que lea 4 calificaciones de un alumno, calcular y desplegar el promedio acompañado de la leyenda APROBADO o REPROBADO**"
      ],
      "metadata": {
        "id": "8bNS5HYSBZo1"
      }
    },
    {
      "cell_type": "code",
      "source": [
        "calif1 = int(input(\"Ingrese calificacion 1:\"))\n",
        "calif2 = int(input(\"Ingrese calificacion 2:\"))\n",
        "calif3 = int(input(\"Ingrese calificacion 3:\"))\n",
        "calif4 = int(input(\"Ingrese calificacion 4:\"))\n",
        "promedio = (calif1 + calif2+ calif3 + calif4) / 4\n",
        "if promedio >= 60:\n",
        "    print((f\"\\n\\\"APROBADO\\\" con calificacion de {promedio}\"))\n",
        "else:\n",
        "    print(f\"\\n\\\"REPROBADO\\\" con calficacion de {promedio}\")"
      ],
      "metadata": {
        "colab": {
          "base_uri": "https://localhost:8080/"
        },
        "id": "G4SbC9s2B0P0",
        "outputId": "6c74698e-24c0-447d-cb84-13e037bece41"
      },
      "execution_count": 72,
      "outputs": [
        {
          "output_type": "stream",
          "name": "stdout",
          "text": [
            "Ingrese calificacion 1:60\n",
            "Ingrese calificacion 2:60\n",
            "Ingrese calificacion 3:60\n",
            "Ingrese calificacion 4:60\n",
            "\n",
            "\"APROBADO\" con calificacion de 60.0\n"
          ]
        }
      ]
    },
    {
      "cell_type": "markdown",
      "source": [
        "**7.- Programa en Python que a través de opciones (1.- HOMBRE 2.- MUJER ) preguntar al usuario cual es su sexo y desplegar la leyenda “HOMBRE ”, “MUJER”**"
      ],
      "metadata": {
        "id": "R2vd1pbFFb10"
      }
    },
    {
      "cell_type": "code",
      "source": [
        "print(\"¿Cual es su sexo?\")\n",
        "print(\"1.-HOMBRE\")\n",
        "print(\"2.-MUJER\")\n",
        "opcion = int(input(\"Teclee el numero 1 si es hombre, 2 si es mujer:\"))\n",
        "if opcion == 1:\n",
        "    print((f\"\\\"HOMBRE\\\"\"))\n",
        "else:\n",
        "    print((f\"\\\"MUJER\\\"\"))  "
      ],
      "metadata": {
        "colab": {
          "base_uri": "https://localhost:8080/"
        },
        "id": "FcfC3j8yFkQ8",
        "outputId": "18049b46-0ba8-48a1-af70-f0647e4082d9"
      },
      "execution_count": 74,
      "outputs": [
        {
          "output_type": "stream",
          "name": "stdout",
          "text": [
            "¿Cual es su sexo?\n",
            "1.-HOMBRE\n",
            "2.-MUJER\n",
            "Teclee el numero 1 si es hombre, 2 si es mujer:2\n",
            "\"MUJER\"\n"
          ]
        }
      ]
    },
    {
      "cell_type": "markdown",
      "source": [
        "**8.- Programa en Python que lea un número entero, y desplegar si el número es “PAR” o “IMPAR”**"
      ],
      "metadata": {
        "id": "qUOwYWRJGdL2"
      }
    },
    {
      "cell_type": "code",
      "source": [
        "numero = int(input(\"ingresa un numero entero:\"))\n",
        "x= numero % 2\n",
        "if x == 0:\n",
        "    print(\"Es par\")\n",
        "else:\n",
        "    print(\"Es impar\")"
      ],
      "metadata": {
        "colab": {
          "base_uri": "https://localhost:8080/"
        },
        "id": "ZDmN49jjGrB0",
        "outputId": "87e69db8-53c3-41f5-cd6e-f755525a6dce"
      },
      "execution_count": 76,
      "outputs": [
        {
          "output_type": "stream",
          "name": "stdout",
          "text": [
            "ingresa un numero entero:6\n",
            "Es par\n"
          ]
        }
      ]
    }
  ]
}