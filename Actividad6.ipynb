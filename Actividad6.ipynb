{
  "cells": [
    {
      "cell_type": "markdown",
      "metadata": {
        "id": "view-in-github",
        "colab_type": "text"
      },
      "source": [
        "<a href=\"https://colab.research.google.com/github/Ray366108/python/blob/main/Actividad6.ipynb\" target=\"_parent\"><img src=\"https://colab.research.google.com/assets/colab-badge.svg\" alt=\"Open In Colab\"/></a>"
      ]
    },
    {
      "cell_type": "code",
      "execution_count": 35,
      "metadata": {
        "id": "ktwmSGkXIz_J"
      },
      "outputs": [],
      "source": [
        "def valida_num(opciones, minimo, maximo):\n",
        "    while True:\n",
        "        try:\n",
        "            valor = int(input(opciones))\n",
        "            if valor < minimo or valor > maximo:\n",
        "                print(f\"Error: el valor de la opcion debe estar entre {minimo} y {maximo}\")\n",
        "            else:\n",
        "                 return valor\n",
        "        except ValueError: \n",
        "            print(\"Error: debe ingrear un valor numerico\")"
      ]
    },
    {
      "cell_type": "code",
      "execution_count": 36,
      "metadata": {
        "id": "jlI0NB03Oztc"
      },
      "outputs": [],
      "source": [
        "from IPython.display import clear_output\n",
        "def lee_nums():\n",
        "    numeros = []\n",
        "    while True:\n",
        "        entrada = input(\"Ingresa un numero, preciona 'p' para terminar: \")\n",
        "        if entrada == 'p':\n",
        "            break\n",
        "        try:\n",
        "            numero = float(entrada)\n",
        "        except ValueError:\n",
        "            print(\"Entrada invalida vuelve a intenatarlo\")\n",
        "            continue\n",
        "        numeros.append(numero)\n",
        "    \n",
        "    suma = sum(numeros)\n",
        "    media = suma / len(numeros)\n",
        "    mayor = max(numeros)\n",
        "    menor = min(numeros)\n",
        "    print(f\"La suma de los números es {suma}.\")\n",
        "    print(f\"La media de los números es {media}.\")\n",
        "    print(f\"El número mayor es {mayor}.\")\n",
        "    print(f\"El número menor es {menor}.\")\n",
        "    input(\"Preciona enter para regresar al menu principal\")\n",
        "    clear_output()\n"
      ]
    },
    {
      "cell_type": "code",
      "source": [
        "from IPython.display import clear_output\n",
        "def gen_nums():\n",
        "    import random\n",
        "    suma1 = 0\n",
        "    suma2 = 0\n",
        "    cont1 = 0\n",
        "    cont2 = 0\n",
        "    for i in range(15):\n",
        "        num = random.randint(10,60)\n",
        "        if num%2 == 0:\n",
        "            suma1 = suma1 + num\n",
        "            print(f\"{i}--{num}--par\")\n",
        "            cont1+= 1\n",
        "        else:\n",
        "            suma2 = suma2 + num\n",
        "            print(f\"{i}--{num}--impar\") \n",
        "            cont2+= 1\n",
        "    media_impar = suma2 / cont2\n",
        "    mediapar = suma1 / cont1\n",
        "    print(f\"La media de los numeros pares es {mediapar}\")\n",
        "    print(f\"La media de los numeros imapares es {media_impar}\")\n",
        "    input(\"Precione enter para salir\")\n",
        "    clear_output()"
      ],
      "metadata": {
        "id": "g4cPxZBzEnbM"
      },
      "execution_count": 37,
      "outputs": []
    },
    {
      "cell_type": "code",
      "source": [
        "from IPython.display import clear_output\n",
        "def leer_rango():\n",
        "   while True:\n",
        "       inicio = int(input(\"Ingresa un numero para inciar el rango: \"))\n",
        "       fin = int(input(\"Igresa un numero para finalizar el rango: \"))\n",
        "       try:\n",
        "           numeros = list(range(inicio, fin + 1))\n",
        "       except ValueError:\n",
        "           print(\"Entrada invalida intentelo de nuevo\")\n",
        "           continue\n",
        "       else:\n",
        "           cont_nums = len(numeros)\n",
        "           prom_nums = sum(numeros) / cont_nums\n",
        "           print(f\"El rango tiene {cont_nums} numeros\")\n",
        "           print(f\"El promedio de los números es {prom_nums}\")\n",
        "       deseo = input(\"Precione enter para ingresar nuevo rango, N para salir: \")\n",
        "       clear_output()\n",
        "       if deseo.lower() == 'n':\n",
        "           break\n",
        "       \n",
        "    \n"
      ],
      "metadata": {
        "id": "Xx022AAxLABc"
      },
      "execution_count": 38,
      "outputs": []
    },
    {
      "cell_type": "code",
      "source": [
        "from IPython.display import clear_output\n",
        "def calcular_area_triangulo(base, altura):\n",
        "    area = (base * altura) / 2\n",
        "    return area  \n",
        "base = 4\n",
        "altura = 6\n",
        "area_triangulo = calcular_area_triangulo(base, altura)\n",
        "print(\"El área del triángulo es:\", area_triangulo)    "
      ],
      "metadata": {
        "id": "F9sIMqsiKBJZ",
        "colab": {
          "base_uri": "https://localhost:8080/"
        },
        "outputId": "ca2a24db-712c-4c0e-8f52-825a0f221936"
      },
      "execution_count": 99,
      "outputs": [
        {
          "output_type": "stream",
          "name": "stdout",
          "text": [
            "El área del triángulo es: 12.0\n"
          ]
        }
      ]
    },
    {
      "cell_type": "code",
      "execution_count": 102,
      "metadata": {
        "id": "2mwRoztGVUR1"
      },
      "outputs": [],
      "source": [
        "def menu():\n",
        "    while True:\n",
        "        print(\"Seleccione una opción:\")\n",
        "        print(\"1. Programa 1\")\n",
        "        print(\"2. Programa 2\")\n",
        "        print(\"3. Programa 3\")\n",
        "        print(\"4. Programa 4\")\n",
        "        print(\"0. Salir\")\n",
        "        opcion = valida_num(\"Ingrese una opción: \", 0, 5)\n",
        "        if opcion == 0:\n",
        "            break\n",
        "        elif opcion == 1:\n",
        "            lee_nums()\n",
        "        elif opcion == 2:\n",
        "             gen_nums()\n",
        "        elif opcion == 3:\n",
        "             leer_rango()\n",
        "        elif opcion == 4:\n",
        "             calcular_area_triangulo()"
      ]
    },
    {
      "cell_type": "code",
      "execution_count": null,
      "metadata": {
        "colab": {
          "base_uri": "https://localhost:8080/"
        },
        "id": "cRkNYBkcWc9t",
        "outputId": "f45a659f-4d2e-42a2-a9e1-30c76888a63c"
      },
      "outputs": [
        {
          "output_type": "stream",
          "name": "stdout",
          "text": [
            "Seleccione una opción:\n",
            "1. Programa 1\n",
            "2. Programa 2\n",
            "3. Programa 3\n",
            "4. Programa 4\n",
            "0. Salir\n",
            "Ingrese una opción: 3\n",
            "Ingresa un numero para inciar el rango: 10\n",
            "Igresa un numero para finalizar el rango: 20\n",
            "El rango tiene 11 numeros\n",
            "El promedio de los números es 15.0\n"
          ]
        }
      ],
      "source": [
        "menu()"
      ]
    }
  ],
  "metadata": {
    "colab": {
      "provenance": [],
      "authorship_tag": "ABX9TyO4EkGCB69doS+Q0G2GMZlk",
      "include_colab_link": true
    },
    "kernelspec": {
      "display_name": "Python 3",
      "name": "python3"
    },
    "language_info": {
      "name": "python"
    }
  },
  "nbformat": 4,
  "nbformat_minor": 0
}