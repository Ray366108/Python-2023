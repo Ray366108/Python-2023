{
  "cells": [
    {
      "cell_type": "markdown",
      "metadata": {
        "id": "view-in-github",
        "colab_type": "text"
      },
      "source": [
        "<a href=\"https://colab.research.google.com/github/Ray366108/Python-2023/blob/main/MAR_PY_A12.ipynb\" target=\"_parent\"><img src=\"https://colab.research.google.com/assets/colab-badge.svg\" alt=\"Open In Colab\"/></a>"
      ]
    },
    {
      "cell_type": "code",
      "source": [
        "!pip install pyyaml"
      ],
      "metadata": {
        "colab": {
          "base_uri": "https://localhost:8080/"
        },
        "id": "UofydPSve964",
        "outputId": "edcf23dd-d08c-4491-9061-2f08183df66e"
      },
      "execution_count": 1,
      "outputs": [
        {
          "output_type": "stream",
          "name": "stdout",
          "text": [
            "Requirement already satisfied: pyyaml in /usr/local/lib/python3.10/dist-packages (6.0.1)\n"
          ]
        }
      ]
    },
    {
      "cell_type": "code",
      "execution_count": 2,
      "metadata": {
        "id": "M2z1R0jXCKu-"
      },
      "outputs": [],
      "source": [
        "from IPython.display import clear_output\n",
        "import random\n",
        "import json\n",
        "import yaml\n",
        "import time\n",
        "import pandas as pd"
      ]
    },
    {
      "cell_type": "code",
      "source": [
        "from google.colab import drive\n",
        "drive.mount('/content/drive')"
      ],
      "metadata": {
        "colab": {
          "base_uri": "https://localhost:8080/"
        },
        "id": "z8MJf3gcgvc0",
        "outputId": "181af84c-f204-43fd-d739-7c91bf33c924"
      },
      "execution_count": 18,
      "outputs": [
        {
          "output_type": "stream",
          "name": "stdout",
          "text": [
            "Drive already mounted at /content/drive; to attempt to forcibly remount, call drive.mount(\"/content/drive\", force_remount=True).\n"
          ]
        }
      ]
    },
    {
      "cell_type": "code",
      "source": [
        "ruta=\"/content/drive/MyDrive/python\""
      ],
      "metadata": {
        "id": "CNeCbmBrgy7w"
      },
      "execution_count": 19,
      "outputs": []
    },
    {
      "cell_type": "code",
      "source": [
        "ruta=\"/content/drive/MyDrive/python\""
      ],
      "metadata": {
        "id": "13LqBH5ahAyz"
      },
      "execution_count": 5,
      "outputs": []
    },
    {
      "cell_type": "code",
      "source": [
        "import sys\n",
        "sys.path.append(ruta)"
      ],
      "metadata": {
        "id": "HqoyDT00hIIb"
      },
      "execution_count": 20,
      "outputs": []
    },
    {
      "cell_type": "code",
      "source": [
        "import os\n",
        "\n",
        "# Ruta de la carpeta \"python\" en Google Drive\n",
        "path = \"/content/drive/MyDrive/python\""
      ],
      "metadata": {
        "id": "IyUpvWJehMC4"
      },
      "execution_count": 21,
      "outputs": []
    },
    {
      "cell_type": "code",
      "execution_count": 8,
      "metadata": {
        "id": "n6M96NRekure"
      },
      "outputs": [],
      "source": [
        "def vali_num(opcion, minimo, maximo):\n",
        "    while True:\n",
        "        try:\n",
        "            valor = int(input(opcion))\n",
        "            if valor < minimo or valor > maximo:\n",
        "                raise ValueError(f\"Ingresa valores entre {minimo} y {maximo}\")\n",
        "            else:\n",
        "                return valor\n",
        "        except ValueError as e:\n",
        "            print(\"Error:\", e)\n",
        "        except ValueError:\n",
        "            print(\"Error: ingresa un valor numerico\")\n"
      ]
    },
    {
      "cell_type": "code",
      "execution_count": 9,
      "metadata": {
        "id": "U1SuejfGCR2k"
      },
      "outputs": [],
      "source": [
        "def menu():\n",
        "    while True:\n",
        "        print(\"1.- Agregar (automatico 10)\")\n",
        "        print(\"2.- Eliminar {ID}\")\n",
        "        print(\"3.- Imprimir lista (tabla)\")\n",
        "        print(\"4.- Buscar {ID}\")\n",
        "        print(\"5.- Buscar {appat} todas las coincidencias\")\n",
        "        print(\"6.- Ordenar {ID}\")\n",
        "        opcion = vali_num(\"Escoge una opcion: \", 0, 6)\n",
        "\n",
        "        if opcion == 0:\n",
        "            break\n",
        "        elif opcion == 1:\n",
        "            clear_output()\n",
        "            generar()\n",
        "        elif opcion == 2:\n",
        "            clear_output()\n",
        "            delete_id()\n",
        "        elif opcion == 3:\n",
        "            clear_output()\n",
        "            imprimir()\n",
        "        elif opcion == 4:\n",
        "            clear_output()\n",
        "            busca()\n",
        "        elif opcion == 6:\n",
        "            clear_output()\n",
        "            ordena()\n",
        "\n",
        "\n",
        "\n"
      ]
    },
    {
      "cell_type": "code",
      "source": [
        "import dicionario"
      ],
      "metadata": {
        "id": "qLWxmhKxiytf"
      },
      "execution_count": 23,
      "outputs": []
    },
    {
      "cell_type": "code",
      "execution_count": 24,
      "metadata": {
        "id": "vTuo-OkbHtNr"
      },
      "outputs": [],
      "source": [
        "def generar():\n",
        "\n",
        "    listadatos= []\n",
        "    claves = [\"Id\",\"Ap.Paterno\",\"Ap.Materno\",\"Nombre\",\"Puesto\",\"Sexo\"]\n",
        "    for i in range(10):\n",
        "        listadatos.append(dict(zip(claves,dicionario.registro())))\n",
        "    print(\"Datos generados...\")\n",
        "    time.sleep(1.5)\n",
        "    clear_output()"
      ]
    },
    {
      "cell_type": "code",
      "source": [
        "def delete_id():\n",
        "\n",
        "    i = 0\n",
        "    delete = vali_num(\"Dame el id a eliminar: \",10, 500 )\n",
        "    for i in listadatos:\n",
        "        if delete == i[\"Id\"]:\n",
        "            print(\"Esta seguro de elminar?\")\n",
        "            op = vali_num(\"Precione [1] si, [2] no\", 0, 1)\n",
        "            if op == 1:\n",
        "                listadatos.pop(0)\n",
        "                print(\"Empleado eliminado\")\n",
        "            if op == 0:\n",
        "                break\n",
        "\n",
        "    time.sleep(1.5)\n",
        "    clear_output()"
      ],
      "metadata": {
        "id": "Neag6KWzt9UZ"
      },
      "execution_count": 12,
      "outputs": []
    },
    {
      "cell_type": "code",
      "execution_count": 25,
      "metadata": {
        "id": "yLMc0MA5Xs7a"
      },
      "outputs": [],
      "source": [
        "def imprimir():\n",
        "\n",
        "    data = pd.DataFrame(listadatos)\n",
        "    print (data)\n",
        "    input(\"\\nPreciona enter para volver al menu\\n\")\n",
        "    clear_output()\n"
      ]
    },
    {
      "cell_type": "code",
      "execution_count": 14,
      "metadata": {
        "id": "oWKvilAag0zT"
      },
      "outputs": [],
      "source": [
        "def busca():\n",
        "    band = 0\n",
        "    i = 1\n",
        "\n",
        "    busca = vali_num(\"Dame el id a buscar: \",10, 500 )\n",
        "\n",
        "    for i in listadatos:\n",
        "        if busca == i[\"Id\"]:\n",
        "            print(\"Datos\\n\")\n",
        "            print(\"Id        : \", i[\"Id\"])\n",
        "            print(\"Ap.Paterno: \", i[\"Ap.Paterno\"])\n",
        "            print(\"Ap.Materno: \", i[\"Ap.Materno\"])\n",
        "            print(\"Nombre    :\", i[\"Nombre\"])\n",
        "            print(\"Puesto    : \", i[\"Puesto\"])\n",
        "            print(\"Sexo      : \", i[\"Sexo\"])\n",
        "\n",
        "            band = 1\n",
        "            time.sleep(2)\n",
        "\n",
        "    if band == 0:\n",
        "        print(\"\\nId No existe...\\n\")\n",
        "        time.sleep(1.5)\n",
        "    clear_output()"
      ]
    },
    {
      "cell_type": "code",
      "source": [
        "def ordena():\n",
        "\n",
        "    i = 1\n",
        "    listadatos.sort(key = lambda i: i[\"Id\"])\n",
        "\n",
        "    print(\"Datos ordenados...\")\n",
        "    time.sleep(1.5)"
      ],
      "metadata": {
        "id": "_pzvV302pNdp"
      },
      "execution_count": 15,
      "outputs": []
    },
    {
      "cell_type": "code",
      "source": [
        "menu()"
      ],
      "metadata": {
        "colab": {
          "base_uri": "https://localhost:8080/",
          "height": 321
        },
        "id": "-cKklhBou6tI",
        "outputId": "9d25d9a9-4db9-40f2-d8e9-18f4d2d52c33"
      },
      "execution_count": 26,
      "outputs": [
        {
          "output_type": "error",
          "ename": "NameError",
          "evalue": "ignored",
          "traceback": [
            "\u001b[0;31m---------------------------------------------------------------------------\u001b[0m",
            "\u001b[0;31mNameError\u001b[0m                                 Traceback (most recent call last)",
            "\u001b[0;32m<ipython-input-26-a554a8713acc>\u001b[0m in \u001b[0;36m<cell line: 1>\u001b[0;34m()\u001b[0m\n\u001b[0;32m----> 1\u001b[0;31m \u001b[0mmenu\u001b[0m\u001b[0;34m(\u001b[0m\u001b[0;34m)\u001b[0m\u001b[0;34m\u001b[0m\u001b[0;34m\u001b[0m\u001b[0m\n\u001b[0m",
            "\u001b[0;32m<ipython-input-9-834a7f3d743d>\u001b[0m in \u001b[0;36mmenu\u001b[0;34m()\u001b[0m\n\u001b[1;32m     19\u001b[0m         \u001b[0;32melif\u001b[0m \u001b[0mopcion\u001b[0m \u001b[0;34m==\u001b[0m \u001b[0;36m3\u001b[0m\u001b[0;34m:\u001b[0m\u001b[0;34m\u001b[0m\u001b[0;34m\u001b[0m\u001b[0m\n\u001b[1;32m     20\u001b[0m             \u001b[0mclear_output\u001b[0m\u001b[0;34m(\u001b[0m\u001b[0;34m)\u001b[0m\u001b[0;34m\u001b[0m\u001b[0;34m\u001b[0m\u001b[0m\n\u001b[0;32m---> 21\u001b[0;31m             \u001b[0mimprimir\u001b[0m\u001b[0;34m(\u001b[0m\u001b[0;34m)\u001b[0m\u001b[0;34m\u001b[0m\u001b[0;34m\u001b[0m\u001b[0m\n\u001b[0m\u001b[1;32m     22\u001b[0m         \u001b[0;32melif\u001b[0m \u001b[0mopcion\u001b[0m \u001b[0;34m==\u001b[0m \u001b[0;36m4\u001b[0m\u001b[0;34m:\u001b[0m\u001b[0;34m\u001b[0m\u001b[0;34m\u001b[0m\u001b[0m\n\u001b[1;32m     23\u001b[0m             \u001b[0mclear_output\u001b[0m\u001b[0;34m(\u001b[0m\u001b[0;34m)\u001b[0m\u001b[0;34m\u001b[0m\u001b[0;34m\u001b[0m\u001b[0m\n",
            "\u001b[0;32m<ipython-input-25-648557931106>\u001b[0m in \u001b[0;36mimprimir\u001b[0;34m()\u001b[0m\n\u001b[1;32m      1\u001b[0m \u001b[0;32mdef\u001b[0m \u001b[0mimprimir\u001b[0m\u001b[0;34m(\u001b[0m\u001b[0;34m)\u001b[0m\u001b[0;34m:\u001b[0m\u001b[0;34m\u001b[0m\u001b[0;34m\u001b[0m\u001b[0m\n\u001b[1;32m      2\u001b[0m \u001b[0;34m\u001b[0m\u001b[0m\n\u001b[0;32m----> 3\u001b[0;31m     \u001b[0mdata\u001b[0m \u001b[0;34m=\u001b[0m \u001b[0mpd\u001b[0m\u001b[0;34m.\u001b[0m\u001b[0mDataFrame\u001b[0m\u001b[0;34m(\u001b[0m\u001b[0mlistadatos\u001b[0m\u001b[0;34m)\u001b[0m\u001b[0;34m\u001b[0m\u001b[0;34m\u001b[0m\u001b[0m\n\u001b[0m\u001b[1;32m      4\u001b[0m     \u001b[0mprint\u001b[0m \u001b[0;34m(\u001b[0m\u001b[0mdata\u001b[0m\u001b[0;34m)\u001b[0m\u001b[0;34m\u001b[0m\u001b[0;34m\u001b[0m\u001b[0m\n\u001b[1;32m      5\u001b[0m     \u001b[0minput\u001b[0m\u001b[0;34m(\u001b[0m\u001b[0;34m\"\\nPreciona enter para volver al menu\\n\"\u001b[0m\u001b[0;34m)\u001b[0m\u001b[0;34m\u001b[0m\u001b[0;34m\u001b[0m\u001b[0m\n",
            "\u001b[0;31mNameError\u001b[0m: name 'listadatos' is not defined"
          ]
        }
      ]
    }
  ],
  "metadata": {
    "colab": {
      "provenance": [],
      "authorship_tag": "ABX9TyNSY9510W7q3dmKcKQaC+59",
      "include_colab_link": true
    },
    "kernelspec": {
      "display_name": "Python 3",
      "name": "python3"
    },
    "language_info": {
      "name": "python"
    }
  },
  "nbformat": 4,
  "nbformat_minor": 0
}