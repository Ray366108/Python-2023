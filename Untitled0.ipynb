{
  "nbformat": 4,
  "nbformat_minor": 0,
  "metadata": {
    "colab": {
      "provenance": [],
      "authorship_tag": "ABX9TyNH0KBCRSMw/GZvHsoGDvda",
      "include_colab_link": true
    },
    "kernelspec": {
      "name": "python3",
      "display_name": "Python 3"
    },
    "language_info": {
      "name": "python"
    }
  },
  "cells": [
    {
      "cell_type": "markdown",
      "metadata": {
        "id": "view-in-github",
        "colab_type": "text"
      },
      "source": [
        "<a href=\"https://colab.research.google.com/github/Ray366108/Python-Act/blob/main/Untitled0.ipynb\" target=\"_parent\"><img src=\"https://colab.research.google.com/assets/colab-badge.svg\" alt=\"Open In Colab\"/></a>"
      ]
    },
    {
      "cell_type": "markdown",
      "source": [
        "**Actividad 2**\n",
        "\n",
        "**Fecha: 22 Agosto 2023**\n",
        "\n",
        "**Raymundo Miguel Aguilera**"
      ],
      "metadata": {
        "id": "KupmFR3fkEIl"
      }
    },
    {
      "cell_type": "markdown",
      "source": [
        "**1.- Programa en Python que lea 2 números enteros, usar una condición y analizar los dos números y desplegar cual de los números es el mayor.**\n"
      ],
      "metadata": {
        "id": "41fYWbiVkgFj"
      }
    },
    {
      "cell_type": "code",
      "execution_count": null,
      "metadata": {
        "id": "jldtfTurkB73"
      },
      "outputs": [],
      "source": [
        "num1 = int(input(\"ingresa un numero: \"))\n",
        "num2 = int(input(\"ingresa un numero: \"))\n",
        "\n",
        "if num1 == num2 :\n",
        "    print(f\"{num1} y {num2} son iguales\")\n",
        "if num1 > num2 :\n",
        "    print(f\"el numero mayor es {num1}\")\n",
        "if num1 < num2 :\n",
        "    print(f\"el numero mayor es {num2}\")\n"
      ]
    },
    {
      "cell_type": "markdown",
      "source": [
        "**2.- Programa en PythonAlgoritmo que lea 4 calificaciones de un alumno, calcular y desplegar el promedio acompañado de la leyenda \"APROBADO\" o \"REPROBADO\"**\n",
        "\n"
      ],
      "metadata": {
        "id": "gCmL71rrmNRN"
      }
    },
    {
      "cell_type": "code",
      "source": [
        "calf1 = int(input(\"ingresa tu calificacion 1: \"))\n",
        "calf2 = int(input(\"ingresa tu calificacion 2: \"))\n",
        "calf3 = int(input(\"ingresa tu calificacion 3: \"))\n",
        "calf4 = int(input(\"ingresa tu calificacion 4: \"))\n",
        "\n",
        "prom = (calf1 + calf2 +calf3 +calf4) / 4\n",
        "\n",
        "if prom >= 60 :\n",
        "    print(f\"APROBADO CON CALIFICACION DE {prom}\")\n",
        "if prom < 60 :\n",
        "    print(f\" REPROBADO CON CALIFICACON DE {prom}\")\n"
      ],
      "metadata": {
        "id": "NYxUrFm5mS0c"
      },
      "execution_count": null,
      "outputs": []
    },
    {
      "cell_type": "markdown",
      "source": [
        "**3.- Programa en PythonAlgoritmo que a través de opciones (1.- HOMBRE 2.- MUJER ) preguntar al usuario cual es su sexo y desplegar la leyenda “HOMBRE ”, “MUJER”**\n",
        "\n"
      ],
      "metadata": {
        "id": "7FgryDvCoJOv"
      }
    },
    {
      "cell_type": "code",
      "source": [
        "print(\"Cual es su sexo ?\\n 1-HOMBRE\\n 2-MUJER\")\n",
        "men_women = int(input(\"teclea 1 si eres hombre, 2 si eres mujer: \"))\n",
        "\n",
        "if men_women == 1 :\n",
        "    print(\"HOMBRE\")\n",
        "if men_women == 2:\n",
        "   print(\"MUJER\")"
      ],
      "metadata": {
        "id": "WVo4d6tWoO6E"
      },
      "execution_count": null,
      "outputs": []
    },
    {
      "cell_type": "markdown",
      "source": [
        "**4.- Programa en Python que lea un número entero, y desplegar si el número es “PAR” o “IMPAR”**\n",
        "\n"
      ],
      "metadata": {
        "id": "4MUjcX8CqFWM"
      }
    },
    {
      "cell_type": "code",
      "source": [
        "num = int(input(\"ingrese un numero: \"))\n",
        "\n",
        "if num%2 == 0 :\n",
        "    print(f\"El numero {num} es par\")\n",
        "if num%2 != 0 :\n",
        "    print(f\"El numero {num} es impar\")"
      ],
      "metadata": {
        "id": "qiu6c63rqNAO"
      },
      "execution_count": null,
      "outputs": []
    },
    {
      "cell_type": "markdown",
      "source": [
        "**5.- Programa en Python que lea 2 números enteros, usar una condición y analizar los dos números y desplegar cual de los números es el mayor.**\n",
        "\n"
      ],
      "metadata": {
        "id": "_5voxJa1rnoh"
      }
    },
    {
      "cell_type": "code",
      "source": [
        "num_1 = int(input(\"ingresa un numero: \"))\n",
        "num_2 = int(input(\"ingresa un numero: \"))\n",
        "\n",
        "if num_1 != num_2 :\n",
        "    if num_1 > num_2 :\n",
        "        print(f\"el numero mayor es {num_1}\")\n",
        "    else :\n",
        "        print(f\"el numero mayor es {num_2}\")\n",
        "else :\n",
        "     print(f\"{num_1} y {num_2} son iguales\")"
      ],
      "metadata": {
        "colab": {
          "base_uri": "https://localhost:8080/"
        },
        "id": "4lmhF74arqOD",
        "outputId": "2a898e01-9672-4765-8970-d1f439ca07fc"
      },
      "execution_count": 73,
      "outputs": [
        {
          "output_type": "stream",
          "name": "stdout",
          "text": [
            "ingresa un numero: 15\n",
            "ingresa un numero: 15\n",
            "15 y 15 son iguales\n"
          ]
        }
      ]
    },
    {
      "cell_type": "markdown",
      "source": [
        "**6.- Programa en Python que lea 4 calificaciones de un alumno, calcular y desplegar el promedio acompañado de la leyenda APROBADO o REPROBADO**\n",
        "\n"
      ],
      "metadata": {
        "id": "IwFOojXQ4fWM"
      }
    },
    {
      "cell_type": "code",
      "source": [
        "cal1 = int(input(\"ingresa tu calificacion 1: \"))\n",
        "cal2 = int(input(\"ingresa tu calificacion 2: \"))\n",
        "cal3 = int(input(\"ingresa tu calificacion 3: \"))\n",
        "cal4 = int(input(\"ingresa tu calificacion 4: \"))\n",
        "\n",
        "promedio = (cal1 +cal2 +cal3 +cal3) / 4\n",
        "\n",
        "if promedio >= 60 :\n",
        "    print(f\"promedio de {promedio} APROBADO\")\n",
        "else :\n",
        "    print(f\"promedio de {promedio} REPROBADO\")"
      ],
      "metadata": {
        "id": "QMYHqCqk4j7r"
      },
      "execution_count": null,
      "outputs": []
    },
    {
      "cell_type": "markdown",
      "source": [
        "**7.- Programa en Python que a través de opciones (1.- HOMBRE 2.- MUJER ) preguntar al usuario cual es su sexo y desplegar la leyenda “HOMBRE ”, “MUJER”**\n",
        "\n"
      ],
      "metadata": {
        "id": "A_lOKodh5ZNa"
      }
    },
    {
      "cell_type": "code",
      "source": [
        "print(\"Cual es su sexo ?\\n 1-HOMBRE\\n 2-MUJER\")\n",
        "m_h = int(input(\"teclea 1 si eres hombre, 2 si eres mujer: \"))\n",
        "\n",
        "if m_h== 1 :\n",
        "    print(\"HOMBRE\")\n",
        "else :\n",
        "    print(\"MUJER\")"
      ],
      "metadata": {
        "id": "V_yqRu_N5dX1"
      },
      "execution_count": null,
      "outputs": []
    },
    {
      "cell_type": "markdown",
      "source": [
        "**8.- Programa en Python que lea un número entero, y desplegar si el número es “PAR” o “IMPAR” NOTA: EJERCICIOS PARA SER RESUELTOS USANDO EXCLUSIVAMENTE CONDICIONES COMPUESTO**\n",
        "\n"
      ],
      "metadata": {
        "id": "fzaW5lLA6m5L"
      }
    },
    {
      "cell_type": "code",
      "source": [
        "nums = int(input(\"ingrese un numero: \"))\n",
        "\n",
        "if nums%2 == 0 :\n",
        "    print(f\"El numero {nums} es par\")\n",
        "else :\n",
        "    print(f\"el numero {nums} es impar\")"
      ],
      "metadata": {
        "id": "ZqBfJbp37WAW"
      },
      "execution_count": null,
      "outputs": []
    }
  ]
}