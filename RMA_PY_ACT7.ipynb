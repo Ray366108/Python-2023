{
  "nbformat": 4,
  "nbformat_minor": 0,
  "metadata": {
    "colab": {
      "provenance": [],
      "authorship_tag": "ABX9TyPcey+D92pGPO2e3GkFLsuI",
      "include_colab_link": true
    },
    "kernelspec": {
      "name": "python3",
      "display_name": "Python 3"
    },
    "language_info": {
      "name": "python"
    }
  },
  "cells": [
    {
      "cell_type": "markdown",
      "metadata": {
        "id": "view-in-github",
        "colab_type": "text"
      },
      "source": [
        "<a href=\"https://colab.research.google.com/github/Ray366108/Python-Act/blob/main/actividad7_23.ipynb\" target=\"_parent\"><img src=\"https://colab.research.google.com/assets/colab-badge.svg\" alt=\"Open In Colab\"/></a>"
      ]
    },
    {
      "cell_type": "code",
      "source": [
        "from IPython.display import clear_output\n",
        "import random"
      ],
      "metadata": {
        "id": "nqOHcuJHW_Zm"
      },
      "execution_count": null,
      "outputs": []
    },
    {
      "cell_type": "code",
      "execution_count": null,
      "metadata": {
        "id": "FBJQgaGAxfxy"
      },
      "outputs": [],
      "source": [
        "def valida_num(opcion, minimo, maximo):\n",
        "\n",
        "    while True:\n",
        "        try:\n",
        "\n",
        "            valor = int(input(opcion))\n",
        "            if valor < minimo or valor > maximo:\n",
        "                raise ValueError(f\"solo agregar valores entre {minimo} y {maximo}\")\n",
        "            else:\n",
        "                return valor\n",
        "        except ValueError as e:\n",
        "            print(\"error:\", e)\n",
        "        except ValueError:\n",
        "            print(\"Error: deber ingresar un valor numerico\")\n"
      ]
    },
    {
      "cell_type": "markdown",
      "source": [
        "**1.- Función que utilice una lista con los nombres de tus mascotas, o artistas favoritos, (minimo 5, maximo 10) imprimir las cadenas y la cantidad de caracteres de cada cadena.**"
      ],
      "metadata": {
        "id": "doZqRSbh12Jw"
      }
    },
    {
      "cell_type": "code",
      "source": [
        "def nombres():\n",
        "    lista_mascotas = [\"MAURICIO\", \"MAU\", \"BOMBOM\", \"BOBI\", \"LUCAS\", \"MASHA\", \"PANTERA\"]\n",
        "    try:\n",
        "        for i, cadena in enumerate(lista_mascotas):\n",
        "            print(f\"[{i}] {cadena} --> {len(cadena)} caracteres\")\n",
        "\n",
        "    except ValueError:\n",
        "        print(\"ocurrio un error\")\n",
        "    else:\n",
        "        print(len(lista_mascotas))\n",
        "\n",
        "\n"
      ],
      "metadata": {
        "id": "RUeC8010z-j7"
      },
      "execution_count": null,
      "outputs": []
    },
    {
      "cell_type": "code",
      "source": [
        "nombres()"
      ],
      "metadata": {
        "id": "PhdzbdR51e27",
        "colab": {
          "base_uri": "https://localhost:8080/",
          "height": 0
        },
        "outputId": "58d239af-5a68-4b5d-a6d7-35f044c005bd"
      },
      "execution_count": 145,
      "outputs": [
        {
          "output_type": "stream",
          "name": "stdout",
          "text": [
            "[0] MAURICIO --> 8 caracteres\n",
            "[1] MAU --> 3 caracteres\n",
            "[2] BOMBOM --> 6 caracteres\n",
            "[3] BOBI --> 4 caracteres\n",
            "[4] LUCAS --> 5 caracteres\n",
            "[5] MASHA --> 5 caracteres\n",
            "[6] PANTERA --> 7 caracteres\n",
            "7\n"
          ]
        }
      ]
    },
    {
      "cell_type": "markdown",
      "source": [
        "**2.- Programa que utilice 2 funciones,**\n",
        "\n",
        "**Función que genere y regrese una lista con 10 números aleatorios entre el 30 y 50 (no repetidos).**\n",
        "**Función que reciba una lista , Imprimir la lista (Indice y Valor )**\n",
        "\n",
        "\n",
        " **Mandar llamar la función e imprimir toda la lista.**"
      ],
      "metadata": {
        "id": "NXcJGLq52LqX"
      }
    },
    {
      "cell_type": "code",
      "source": [
        "def lista_alea1():\n",
        "    lista_ale = []\n",
        "    for i in range(10):\n",
        "        while True:\n",
        "            num = random.randint(30, 50)\n",
        "            if num not in lista_ale:\n",
        "                break\n",
        "        lista_ale.append(num)\n",
        "    return lista_ale"
      ],
      "metadata": {
        "id": "_Ay71jE__P5E"
      },
      "execution_count": null,
      "outputs": []
    },
    {
      "cell_type": "code",
      "source": [
        "def recibe_lista(lista_ale):\n",
        "    for i, valor in enumerate(lista_ale):\n",
        "        print(f\"[{i}] = {valor}\")"
      ],
      "metadata": {
        "id": "y6plLtVz8F46"
      },
      "execution_count": null,
      "outputs": []
    },
    {
      "cell_type": "code",
      "source": [
        "lista_sr = lista_alea1()\n",
        "recibe_lista(lista_sr)"
      ],
      "metadata": {
        "id": "biyaV1Gi8WEB",
        "colab": {
          "base_uri": "https://localhost:8080/",
          "height": 0
        },
        "outputId": "7440f05f-b09d-4038-947b-3c0c761244a8"
      },
      "execution_count": 144,
      "outputs": [
        {
          "output_type": "stream",
          "name": "stdout",
          "text": [
            "[0] = 44\n",
            "[1] = 38\n",
            "[2] = 41\n",
            "[3] = 33\n",
            "[4] = 31\n",
            "[5] = 30\n",
            "[6] = 35\n",
            "[7] = 39\n",
            "[8] = 40\n",
            "[9] = 49\n"
          ]
        }
      ]
    },
    {
      "cell_type": "markdown",
      "source": [
        "**3.- Escribe una función que reciba dos listas de números del mismo tamaño y calcule la suma de los elementos correspondientes de cada lista. (regresar una nueva lista) . Luego, muestra una lista con los resultados de cada suma. Nota: si las listas no son del mismo tamaño mandar msge y utilizar el tamaño de la lista mas pequeña)**"
      ],
      "metadata": {
        "id": "DL2bOYpK_cLr"
      }
    },
    {
      "cell_type": "code",
      "source": [
        "def recibe_2lista(lista_ale, lista_ale2):\n",
        "    sum1 = sum(lista_ale)\n",
        "    for i, valor in enumerate(lista_ale):\n",
        "        print(f\"[{i}] = {valor}\")\n",
        "    print(f\"La suma de los elemtnos de la lista 1 es: {sum1}\")\n",
        "    sum2 = sum(lista_ale2)\n",
        "    for i, valor in enumerate(lista_ale2):\n",
        "        print(f\"[{i}] = {valor}\")\n",
        "    print(f\"La suma de los elemtnos de la lista 2 es: {sum2}\")"
      ],
      "metadata": {
        "id": "lT_m2eLP_e8E"
      },
      "execution_count": null,
      "outputs": []
    },
    {
      "cell_type": "code",
      "source": [
        "nueva_lista1 = lista_alea1()\n",
        "nueva_lista2 = lista_alea1()\n",
        "recibe_2lista(nueva_lista1, nueva_lista2 )"
      ],
      "metadata": {
        "colab": {
          "base_uri": "https://localhost:8080/"
        },
        "id": "Qg6bIHNG5ldM",
        "outputId": "cea1b9f6-9d33-481d-c0e1-04bc5c7d1113"
      },
      "execution_count": null,
      "outputs": [
        {
          "output_type": "stream",
          "name": "stdout",
          "text": [
            "[0] = 35\n",
            "[1] = 30\n",
            "[2] = 37\n",
            "[3] = 39\n",
            "[4] = 41\n",
            "[5] = 40\n",
            "[6] = 42\n",
            "[7] = 34\n",
            "[8] = 43\n",
            "[9] = 36\n",
            "La suma de los elemtnos de la lista 1 es: 377\n",
            "[0] = 43\n",
            "[1] = 50\n",
            "[2] = 34\n",
            "[3] = 41\n",
            "[4] = 32\n",
            "[5] = 33\n",
            "[6] = 49\n",
            "[7] = 31\n",
            "[8] = 42\n",
            "[9] = 44\n",
            "La suma de los elemtnos de la lista 2 es: 399\n"
          ]
        }
      ]
    },
    {
      "cell_type": "markdown",
      "source": [
        "**4.- Escribe una función llamada eliminar_duplicados que reciba una lista como parámetro y elimine los elementos duplicados. El resultado debe ser una nueva lista sin duplicados. Pide al usuario que ingrese una lista y luego llama a la función eliminar_duplicados para mostrar la lista sin duplicados. (Solo Numeros enteros, validar)**"
      ],
      "metadata": {
        "id": "SARqZ6yb7Fw8"
      }
    },
    {
      "cell_type": "code",
      "source": [
        "def eliminar_duplicados(lista):\n",
        "    lista_sin_d = list(set(lista))\n",
        "\n",
        "    return lista_sin_d"
      ],
      "metadata": {
        "id": "WYBPC5TM7Qju"
      },
      "execution_count": 69,
      "outputs": []
    },
    {
      "cell_type": "code",
      "source": [
        "def obtener_lista():\n",
        "    lista_num = []\n",
        "    while True:\n",
        "        try:\n",
        "            print(\"Ingresa 5 numeros a la lista\")\n",
        "            for i in range(5):\n",
        "                numeros = int(input(\"Ingresa un numero a la lista: \"))\n",
        "                lista_num.append(numeros)\n",
        "            return lista_num\n",
        "        except ValueError:\n",
        "            print(\"Error: ingresa solo numeros enteros\")"
      ],
      "metadata": {
        "id": "-HUvCmgbB56e"
      },
      "execution_count": 77,
      "outputs": []
    },
    {
      "cell_type": "code",
      "source": [
        "lista_usuario = obtener_lista()\n",
        "lista_sin_d = eliminar_duplicados(lista_usuario)\n",
        "print(lista_sin_d)"
      ],
      "metadata": {
        "colab": {
          "base_uri": "https://localhost:8080/",
          "height": 0
        },
        "id": "88CM42mnLjXI",
        "outputId": "507005c3-d8c2-4d7f-8cb7-bbede5a20b09"
      },
      "execution_count": 143,
      "outputs": [
        {
          "output_type": "stream",
          "name": "stdout",
          "text": [
            "Ingresa 5 numeros a la lista\n",
            "Ingresa un numero a la lista: 4\n",
            "Ingresa un numero a la lista: 2\n",
            "Ingresa un numero a la lista: 4\n",
            "Ingresa un numero a la lista: 3\n",
            "Ingresa un numero a la lista: 4\n",
            "[2, 3, 4]\n"
          ]
        }
      ]
    },
    {
      "cell_type": "markdown",
      "source": [
        "**5.- Escribe una función que calcule la media y la mediana de una lista de números enteros.**\n",
        "\n",
        "**La media es la suma de todos los elementos y dividido entre la cantidad de elementos**\n",
        "\n",
        "**La mediana es el valor que queda en la mitad de la lista cuando se ordena de forma ascendente. Si la lista tiene un número par de elementos, la mediana se calcula como el promedio de los dos valores centrales. Puedes utilizar el método sort() para ordenar la lista y luego calcular la mediana según el tamaño de la lista.**\n",
        "\n"
      ],
      "metadata": {
        "id": "OqBYC-nITqpl"
      }
    },
    {
      "cell_type": "code",
      "source": [
        "def media_mediana():\n",
        "   lista_mm = [5,  4, 10, 2, 6, 5, 4, 6, 8, 7]\n",
        "   suma = sum(lista_mm)\n",
        "   tamaño = len(lista_mm)\n",
        "   lista_ordenada = sorted(lista_mm)\n",
        "   n = len(lista_ordenada)\n",
        "\n",
        "   if n % 2 == 1:\n",
        "       mediana = lista_ordenada[n//2]\n",
        "   else:\n",
        "       mediana = (lista_ordenada[(n // 2) - 1] + lista_ordenada[n // 2]) / 2\n",
        "\n",
        "   print(\"LISTA ORDENADA =\", lista_ordenada)\n",
        "   print(f\"La media es = {suma }\")\n",
        "   print(f\"La mediana es = {mediana}\")\n",
        "\n"
      ],
      "metadata": {
        "id": "BlDOwHbSTwn5"
      },
      "execution_count": 141,
      "outputs": []
    },
    {
      "cell_type": "code",
      "source": [
        "media_mediana()"
      ],
      "metadata": {
        "colab": {
          "base_uri": "https://localhost:8080/",
          "height": 0
        },
        "id": "QYpRBgiifEe3",
        "outputId": "a21a3090-277d-4849-e58f-964d9c67536b"
      },
      "execution_count": 142,
      "outputs": [
        {
          "output_type": "stream",
          "name": "stdout",
          "text": [
            "LISTA ORDENADA = [2, 4, 4, 5, 5, 6, 6, 7, 8, 10]\n",
            "La media es = 57\n",
            "La mediana es = 5.5\n"
          ]
        }
      ]
    }
  ]
}
