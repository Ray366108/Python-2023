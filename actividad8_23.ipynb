{
  "nbformat": 4,
  "nbformat_minor": 0,
  "metadata": {
    "colab": {
      "provenance": [],
      "authorship_tag": "ABX9TyOKvTh59nMnqZGRwFQ6fly1",
      "include_colab_link": true
    },
    "kernelspec": {
      "name": "python3",
      "display_name": "Python 3"
    },
    "language_info": {
      "name": "python"
    }
  },
  "cells": [
    {
      "cell_type": "markdown",
      "metadata": {
        "id": "view-in-github",
        "colab_type": "text"
      },
      "source": [
        "<a href=\"https://colab.research.google.com/github/Ray366108/Python-Act/blob/main/actividad8_23.ipynb\" target=\"_parent\"><img src=\"https://colab.research.google.com/assets/colab-badge.svg\" alt=\"Open In Colab\"/></a>"
      ]
    },
    {
      "cell_type": "code",
      "execution_count": 1,
      "metadata": {
        "id": "oRT8rrHRVDdm"
      },
      "outputs": [],
      "source": [
        "from IPython.display import clear_output\n",
        "import random"
      ]
    },
    {
      "cell_type": "code",
      "source": [
        "def valida_num(opcion, minimo, maximo):\n",
        "\n",
        "    while True:\n",
        "        try:\n",
        "\n",
        "            valor = int(input(opcion))\n",
        "            if valor < minimo or valor > maximo:\n",
        "                raise ValueError(f\"solo agregar valores entre {minimo} y {maximo}\")\n",
        "            else:\n",
        "                return valor\n",
        "        except ValueError as e:\n",
        "            print(\"error:\", e)\n",
        "        except ValueError:\n",
        "            print(\"Error: deber ingresar un valor numerico\")"
      ],
      "metadata": {
        "id": "LXaDTXvQVYdI"
      },
      "execution_count": 2,
      "outputs": []
    },
    {
      "cell_type": "markdown",
      "source": [
        "**1.- Programa en python que genere un número entre el 1 y 10 (no visible)  preguntarle al usuario que número cree que generó la computadora, el usuario tendrá 3 oportunidades de adivinar.**\n",
        "\n",
        "**Decir si adivino o si falló en sus 3 intentos.**\n",
        "\n"
      ],
      "metadata": {
        "id": "QS6IP5NKVhaH"
      }
    },
    {
      "cell_type": "code",
      "source": [
        "perdidos = 0\n",
        "ganados = 0\n",
        "i = 0\n",
        "while True:\n",
        "    num_anonimo = random.randint(1,10)\n",
        "    opo = 0\n",
        "\n",
        "    while opo < 3:\n",
        "        num = valida_num(\"Dame el numero secreto macaco: \", 1, 10)\n",
        "        opo += 1\n",
        "        if num_anonimo == num:\n",
        "            print(\"ADIVINASTE CHANGUILLO\")\n",
        "            ganados += 1\n",
        "            break\n",
        "        elif opo < 3:\n",
        "            print(f\"No adivinaste, Sigue jugando te quedan {3-opo} intentos\")\n",
        "\n",
        "    else:\n",
        "        perdidos += 1\n",
        "        print(f\"FALLASTE 3 INTENTOS, EL NUMERO OCULTO POR LOS OVNIS ES EL {num_anonimo}\")\n",
        "\n",
        "    resp = input(\"PRECIONA UNA TECLA PARA SEGUIR JUGANDO O S PARA SALIR\")\n",
        "    clear_output()\n",
        "    if resp == \"s\":\n",
        "        print(f\"JUEGOS GANADOS {ganados}, PERDIDOS {perdidos}\")\n",
        "        break\n",
        "    i += 1\n"
      ],
      "metadata": {
        "colab": {
          "base_uri": "https://localhost:8080/",
          "height": 0
        },
        "id": "Xq3YQsjWVm51",
        "outputId": "89fd0387-ef1c-4764-b922-59da52a19aa4"
      },
      "execution_count": 17,
      "outputs": [
        {
          "output_type": "stream",
          "name": "stdout",
          "text": [
            "JUEGOS GANADOS 1, PERDIDOS 1\n"
          ]
        }
      ]
    },
    {
      "cell_type": "markdown",
      "source": [
        "**2.- El juego Busca Número muestra una lista de 10 numeros, sin mostrar su contenido,**\n",
        "\n",
        "**Al usuario se le muestra un número que se generó aleatoriamente y el usuario tendrá 3 intentos de adivinar en qué índice del arreglo se encuentra.**\n",
        "\n",
        "**El usuario recibirá un mensaje que diga GANASTE, PERDISTE, TIENES UN NUEVO INTENTO**\n",
        "\n",
        "**El usuario podrá jugar cuantas veces lo desee.**\n",
        "\n",
        "\n",
        "\n",
        "**NOTA: La lista se deberá llenar con números aleatorios del 1 al 10 no repetidos.**\n",
        "\n",
        "**(Hacer una función que regrese la lista con los 10 números sin repetir)**"
      ],
      "metadata": {
        "id": "munsodYSHPIZ"
      }
    },
    {
      "cell_type": "markdown",
      "source": [
        "**VERSIÓN A) Usar ciclos para validar los repetidos, y sólo random para generar los números dentro del rango**\n",
        "\n"
      ],
      "metadata": {
        "id": "CoKObeUrL2VO"
      }
    },
    {
      "cell_type": "code",
      "source": [
        "def lista_ciclo_sr():\n",
        "    alista_sr = []\n",
        "    for i in range(10):\n",
        "        while True:\n",
        "            num = random.randint(1, 10)\n",
        "            if num not in alista_sr:\n",
        "                break\n",
        "        alista_sr.append(num)\n",
        "    return alista_sr"
      ],
      "metadata": {
        "id": "aV5rtuOJHijU"
      },
      "execution_count": 28,
      "outputs": []
    },
    {
      "cell_type": "code",
      "source": [
        "perdidos = 0\n",
        "ganados = 0\n",
        "i = 0\n",
        "recibe_lista = lista_ciclo_sr()\n",
        "while True:\n",
        "    num_lista = random.choice(recibe_lista)\n",
        "    indice = recibe_lista.index(num_lista)\n",
        "    opo = 0\n",
        "    for i, valor in enumerate(recibe_lista):\n",
        "        print(f\"[{i}] = ?\")\n",
        "\n",
        "    while opo < 3:\n",
        "        num = valida_num(f\"En que indice esta el {num_lista}: \", 0, 9)\n",
        "        opo += 1\n",
        "        if num == indice:\n",
        "            print(\"ADIVINASTE CHANGUILLO\")\n",
        "            ganados += 1\n",
        "            break\n",
        "        elif opo < 3:\n",
        "            print(f\"No adivinaste, Sigue jugando te quedan {3-opo} intentos\")\n",
        "\n",
        "    else:\n",
        "        perdidos += 1\n",
        "        print(f\"FALLASTE LOS 3 INTENTOS, EL NUMERO {num_lista} ESTA EN EL INDICE {indice}\")\n",
        "\n",
        "    resp = input(\"PRECIONA UNA TECLA PARA SEGUIR JUGANDO O S PARA SALIR\")\n",
        "    clear_output()\n",
        "    if resp == \"s\":\n",
        "        print(f\"JUEGOS GANADOS {ganados}, PERDIDOS {perdidos}\")\n",
        "        break\n",
        "    i += 1\n"
      ],
      "metadata": {
        "colab": {
          "base_uri": "https://localhost:8080/",
          "height": 0
        },
        "id": "vCn5KYQ8Oa65",
        "outputId": "432c8274-8977-442a-92a6-2f8fc7f7dbd1"
      },
      "execution_count": 83,
      "outputs": [
        {
          "output_type": "stream",
          "name": "stdout",
          "text": [
            "JUEGOS GANADOS 1, PERDIDOS 4\n"
          ]
        }
      ]
    },
    {
      "cell_type": "code",
      "source": [
        "def genera_lista_fn():\n",
        "    lista_fun = list(range(1, 11))\n",
        "    random.shuffle(lista_fun)\n",
        "    return lista_fun\n"
      ],
      "metadata": {
        "id": "k3jM9dCZYqCD"
      },
      "execution_count": 79,
      "outputs": []
    },
    {
      "cell_type": "code",
      "source": [
        "perdidos = 0\n",
        "ganados = 0\n",
        "i = 0\n",
        "lista_num = genera_lista_fn()\n",
        "while True:\n",
        "    num_lista = random.choice(lista_num)\n",
        "    indice = lista_num.index(num_lista)\n",
        "    opo = 0\n",
        "    for i, valor in enumerate(recibe_lista):\n",
        "        print(f\"[{i}] = ?\")\n",
        "\n",
        "    while opo < 3:\n",
        "        num = valida_num(f\"En que indice esta el {num_lista}: \", 0, 9)\n",
        "        opo += 1\n",
        "        if num == indice:\n",
        "            print(\"ADIVINASTE CHANGUILLO\")\n",
        "            ganados += 1\n",
        "            break\n",
        "        elif opo < 3:\n",
        "            print(f\"No adivinaste, Sigue jugando te quedan {3-opo} intentos\")\n",
        "\n",
        "    else:\n",
        "        perdidos += 1\n",
        "        print(f\"FALLASTE LOS 3 INTENTOS, EL NUMERO {num_lista} ESTA EN EL INDICE {indice}\")\n",
        "\n",
        "    resp = input(\"PRECIONA UNA TECLA PARA SEGUIR JUGANDO O S PARA SALIR\")\n",
        "    clear_output()\n",
        "    if resp == \"s\":\n",
        "        print(f\"JUEGOS GANADOS {ganados}, PERDIDOS {perdidos}\")\n",
        "        break\n",
        "    i += 1\n"
      ],
      "metadata": {
        "colab": {
          "base_uri": "https://localhost:8080/",
          "height": 0
        },
        "id": "FCR27OCTVXP-",
        "outputId": "12082b28-3aac-48fd-abb8-e757d057a59d"
      },
      "execution_count": 82,
      "outputs": [
        {
          "output_type": "stream",
          "name": "stdout",
          "text": [
            "JUEGOS GANADOS 0, PERDIDOS 2\n"
          ]
        }
      ]
    }
  ]
}