{
  "nbformat": 4,
  "nbformat_minor": 0,
  "metadata": {
    "colab": {
      "provenance": [],
      "authorship_tag": "ABX9TyPnuUp9/uwZprEGM+w8FPPz",
      "include_colab_link": true
    },
    "kernelspec": {
      "name": "python3",
      "display_name": "Python 3"
    },
    "language_info": {
      "name": "python"
    }
  },
  "cells": [
    {
      "cell_type": "markdown",
      "metadata": {
        "id": "view-in-github",
        "colab_type": "text"
      },
      "source": [
        "<a href=\"https://colab.research.google.com/github/Ray366108/Python-Act/blob/main/MAR_ACT1.ipynb\" target=\"_parent\"><img src=\"https://colab.research.google.com/assets/colab-badge.svg\" alt=\"Open In Colab\"/></a>"
      ]
    },
    {
      "cell_type": "markdown",
      "source": [
        "**1.- Programa en Python Mostrar un mensaje que diga “HOLA MUNDO” en un solo renglón usando 2 print**\n"
      ],
      "metadata": {
        "id": "feBF4SwurV8X"
      }
    },
    {
      "cell_type": "code",
      "execution_count": 3,
      "metadata": {
        "colab": {
          "base_uri": "https://localhost:8080/",
          "height": 0
        },
        "id": "BdoXXSRfnbC6",
        "outputId": "8761e835-f70c-4bf2-ee65-0804d416edf5"
      },
      "outputs": [
        {
          "output_type": "stream",
          "name": "stdout",
          "text": [
            "HOLA MUNDO\n"
          ]
        }
      ],
      "source": [
        "print(\"HOLA \", end=\"\")\n",
        "print(\"MUNDO\")"
      ]
    },
    {
      "cell_type": "markdown",
      "source": [
        "**2.- Programa en Python que lea 2 números, realizar la suma y desplegar la suma de los 2 números**\n",
        "\n"
      ],
      "metadata": {
        "id": "7pMPSJaZL2t_"
      }
    },
    {
      "cell_type": "code",
      "source": [
        "num1 = int(input(\"escribe un numero: \"))\n",
        "num2 = int(input(\"escribe un numero: \"))\n",
        "\n",
        "print(f\"la suma entre los dos numeros es {num1 + num2}\")"
      ],
      "metadata": {
        "colab": {
          "base_uri": "https://localhost:8080/"
        },
        "id": "FQsN2FVpL07A",
        "outputId": "5a3c1371-e55b-4419-845f-96f02a177f81"
      },
      "execution_count": 30,
      "outputs": [
        {
          "output_type": "stream",
          "name": "stdout",
          "text": [
            "escribe un numero: 5\n",
            "escribe un numero: 5\n",
            "la suma entre los dos numeros es 10\n"
          ]
        }
      ]
    },
    {
      "cell_type": "markdown",
      "source": [
        "**3.- Programa en Python que lea 2 números y realice las 4 operaciones básicas**\n",
        "\n"
      ],
      "metadata": {
        "id": "E8olttb7f5fW"
      }
    },
    {
      "cell_type": "code",
      "source": [
        "num1 = int(input(\"escribe un numero: \"))\n",
        "num2 = int(input(\"escribe un numero: \"))\n",
        "\n",
        "print(f\"la suma entre los dos numeros es {num1 + num2}\")\n",
        "print(f\"la resta entre los dos numeros es {num1 - num2}\")\n",
        "print(f\"la multiplicacion entre los dos numeros es {num1 * num2}\")\n",
        "print(f\"la divison entre los dos numeros es {num1 / num2}\")"
      ],
      "metadata": {
        "colab": {
          "base_uri": "https://localhost:8080/"
        },
        "id": "knOCK_fuf_f2",
        "outputId": "3c1b1bee-24fe-4896-d448-0ac1a0081501"
      },
      "execution_count": 31,
      "outputs": [
        {
          "output_type": "stream",
          "name": "stdout",
          "text": [
            "escribe un numero: 5\n",
            "escribe un numero: 5\n",
            "la suma entre los dos numeros es 10\n",
            "la resta entre los dos numeros es 0\n",
            "la multiplicacion entre los dos numeros es 25\n",
            "la divison entre los dos numeros es 1.0\n"
          ]
        }
      ]
    },
    {
      "cell_type": "markdown",
      "source": [
        "**4.- Programa en Python Que sirva para calcular el área de un triángulo**\n",
        "\n"
      ],
      "metadata": {
        "id": "asezgx-QhFwk"
      }
    },
    {
      "cell_type": "code",
      "source": [
        "num1 = int(input(\"ingresa la base del triangulo: \"))\n",
        "num2 = int(input(\"ingresa la altura del triangulo: \"))\n",
        "\n",
        "print(f\"el area del triangulo es {(num1 * num2)/2}\")"
      ],
      "metadata": {
        "colab": {
          "base_uri": "https://localhost:8080/"
        },
        "id": "X02O8_GthMyV",
        "outputId": "e7170151-4784-4cd1-bc49-d3e1608b9765"
      },
      "execution_count": 33,
      "outputs": [
        {
          "output_type": "stream",
          "name": "stdout",
          "text": [
            "ingresa la base del triangulo: 5\n",
            "ingresa la altura del triangulo: 10\n",
            "el area del triangulo es 25.0\n"
          ]
        }
      ]
    },
    {
      "cell_type": "markdown",
      "source": [
        "**5.- Programa en Python que lea una medida en centímetros y desplegar la misma medida pero convertida en pies y pulgadas**\n",
        "\n"
      ],
      "metadata": {
        "id": "_azk2rksh-cg"
      }
    },
    {
      "cell_type": "code",
      "source": [
        "cm = int(input(\"ingresa un cantidad en centimetros: \"))\n",
        "\n",
        "print(f\" {cm} centimetros son {cm * 0.032808} pies\")\n",
        "print(f\" {cm} centimetros son {cm * 0.39370} pulgadas\")\n"
      ],
      "metadata": {
        "colab": {
          "base_uri": "https://localhost:8080/"
        },
        "id": "K43fg24XiEFl",
        "outputId": "6ac8ae7d-e11f-48a0-b931-f7735fea52f3"
      },
      "execution_count": 34,
      "outputs": [
        {
          "output_type": "stream",
          "name": "stdout",
          "text": [
            "ingresa un cantidad en centimetros: 1\n",
            " 1 centimetros son 0.032808 pies\n",
            " 1 centimetros son 0.3937 pulgadas\n"
          ]
        }
      ]
    },
    {
      "cell_type": "markdown",
      "source": [
        "**6.- Programa en Python que lea una temperatura en grados centígrados y desplegarla en Grados Fahrenheit y grados kelvin**\n",
        "\n"
      ],
      "metadata": {
        "id": "vImdowUgl_BP"
      }
    },
    {
      "cell_type": "code",
      "source": [
        "grados_cent = int(input(\"ingrese temperatura en grados centigrados: \"))\n",
        "\n",
        "print(f\"{grados_cent} centigrados en fahrenhit son: {(grados_cent * 9/5) + 32}\")\n",
        "print(f\"en kelvin son {grados_cent + 273.15}\")"
      ],
      "metadata": {
        "colab": {
          "base_uri": "https://localhost:8080/"
        },
        "id": "jNtLC8TbmCe2",
        "outputId": "a61f177e-e6aa-457e-ff08-01ca6019688e"
      },
      "execution_count": 36,
      "outputs": [
        {
          "output_type": "stream",
          "name": "stdout",
          "text": [
            "ingrese temperatura en grados centigrados: 10\n",
            "10 centigrados en fahrenhit son: 50.0\n",
            "en kelvin son 283.15\n"
          ]
        }
      ]
    },
    {
      "cell_type": "markdown",
      "source": [
        "**7.- Programa en Python que lea 4 calificaciones de un alumno, desplegar el promedio del alumno**\n",
        "\n"
      ],
      "metadata": {
        "id": "mD4k4UsGl7X-"
      }
    },
    {
      "cell_type": "code",
      "source": [
        "import pprint\n",
        "calf1 = int(input(\"ingresa tu calificacion 1: \"))\n",
        "calf2 = int(input(\"ingresa tu calificacion 2: \"))\n",
        "calf3 = int(input(\"ingresa tu calificacion 3: \"))\n",
        "calf4 = int(input(\"ingresa tu calificacion 4: \"))\n",
        "\n",
        "print(f\"el promedio de las 4 calificaciones es {(calf1 + calf2 +calf3 +calf4) / 4}\")"
      ],
      "metadata": {
        "colab": {
          "base_uri": "https://localhost:8080/"
        },
        "id": "MZfp2Q5fo1ZJ",
        "outputId": "93e76f44-6abd-494a-872e-a0f957546016"
      },
      "execution_count": 37,
      "outputs": [
        {
          "output_type": "stream",
          "name": "stdout",
          "text": [
            "ingresa tu calificacion 1: 100\n",
            "ingresa tu calificacion 2: 100\n",
            "ingresa tu calificacion 3: 100\n",
            "ingresa tu calificacion 4: 100\n",
            "el promedio de las 4 calificaciones es 100.0\n"
          ]
        }
      ]
    }
  ]
}
