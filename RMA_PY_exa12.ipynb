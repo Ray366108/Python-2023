{
  "nbformat": 4,
  "nbformat_minor": 0,
  "metadata": {
    "colab": {
      "provenance": [],
      "authorship_tag": "ABX9TyPZY51s1qFOfzSepYpufRiq",
      "include_colab_link": true
    },
    "kernelspec": {
      "name": "python3",
      "display_name": "Python 3"
    },
    "language_info": {
      "name": "python"
    }
  },
  "cells": [
    {
      "cell_type": "markdown",
      "metadata": {
        "id": "view-in-github",
        "colab_type": "text"
      },
      "source": [
        "<a href=\"https://colab.research.google.com/github/Ray366108/Python-2023/blob/main/RMA_PY_exa12.ipynb\" target=\"_parent\"><img src=\"https://colab.research.google.com/assets/colab-badge.svg\" alt=\"Open In Colab\"/></a>"
      ]
    },
    {
      "cell_type": "code",
      "source": [
        "import random"
      ],
      "metadata": {
        "id": "QEJp6NBUFANB"
      },
      "execution_count": 2,
      "outputs": []
    },
    {
      "cell_type": "code",
      "execution_count": 3,
      "metadata": {
        "id": "BLtcCCh_Eu3G"
      },
      "outputs": [],
      "source": [
        "def lista_alea1():\n",
        "    lista_ale = []\n",
        "    for i in range(30):\n",
        "        while True:\n",
        "            num = random.randint(20, 100)\n",
        "            if num not in lista_ale:\n",
        "                break\n",
        "        lista_ale.append(num)\n",
        "    return lista_ale"
      ]
    },
    {
      "cell_type": "code",
      "source": [
        "def recibe_lista(lista_ale):\n",
        "    for i, valor in enumerate(lista_ale):\n",
        "        print(f\"[{i}] = {valor}\")"
      ],
      "metadata": {
        "id": "dIbK8H3hE16z"
      },
      "execution_count": 4,
      "outputs": []
    },
    {
      "cell_type": "code",
      "source": [
        "lista_sr = lista_alea1()\n",
        "recibe_lista(lista_sr)"
      ],
      "metadata": {
        "colab": {
          "base_uri": "https://localhost:8080/"
        },
        "id": "STYXKTXxE5dt",
        "outputId": "b73e7041-b160-4a28-e924-b29aa530f049"
      },
      "execution_count": 5,
      "outputs": [
        {
          "output_type": "stream",
          "name": "stdout",
          "text": [
            "[0] = 45\n",
            "[1] = 98\n",
            "[2] = 84\n",
            "[3] = 43\n",
            "[4] = 91\n",
            "[5] = 41\n",
            "[6] = 40\n",
            "[7] = 93\n",
            "[8] = 44\n",
            "[9] = 24\n",
            "[10] = 86\n",
            "[11] = 76\n",
            "[12] = 71\n",
            "[13] = 34\n",
            "[14] = 77\n",
            "[15] = 81\n",
            "[16] = 35\n",
            "[17] = 80\n",
            "[18] = 96\n",
            "[19] = 48\n",
            "[20] = 50\n",
            "[21] = 26\n",
            "[22] = 62\n",
            "[23] = 67\n",
            "[24] = 27\n",
            "[25] = 55\n",
            "[26] = 68\n",
            "[27] = 25\n",
            "[28] = 89\n",
            "[29] = 60\n"
          ]
        }
      ]
    }
  ]
}