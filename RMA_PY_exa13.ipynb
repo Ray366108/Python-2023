{
  "nbformat": 4,
  "nbformat_minor": 0,
  "metadata": {
    "colab": {
      "provenance": [],
      "authorship_tag": "ABX9TyNdR4BxV2g2ugeeJJYnGiyb",
      "include_colab_link": true
    },
    "kernelspec": {
      "name": "python3",
      "display_name": "Python 3"
    },
    "language_info": {
      "name": "python"
    }
  },
  "cells": [
    {
      "cell_type": "markdown",
      "metadata": {
        "id": "view-in-github",
        "colab_type": "text"
      },
      "source": [
        "<a href=\"https://colab.research.google.com/github/Ray366108/Python-2023/blob/main/RMA_PY_exa13.ipynb\" target=\"_parent\"><img src=\"https://colab.research.google.com/assets/colab-badge.svg\" alt=\"Open In Colab\"/></a>"
      ]
    },
    {
      "cell_type": "code",
      "execution_count": 1,
      "metadata": {
        "id": "wVBh_yeaF_fP"
      },
      "outputs": [],
      "source": [
        "def valida_num(opcion, minimo, maximo):\n",
        "\n",
        "    while True:\n",
        "        try:\n",
        "\n",
        "            valor = int(input(opcion))\n",
        "            if valor < minimo or valor > maximo:\n",
        "                raise ValueError(f\"solo agregar valores entre {minimo} y {maximo}\")\n",
        "            else:\n",
        "                return valor\n",
        "        except ValueError as e:\n",
        "            print(\"error:\", e)\n",
        "        except ValueError:\n",
        "            print(\"Error: deber ingresar un valor numerico\")\n"
      ]
    },
    {
      "cell_type": "code",
      "source": [
        "print(\"programa que retorna un numero dentro de un rango dado\")\n",
        "\n",
        "inicial = int(input(\"ingresa el rango inicial: \"))\n",
        "final = int(input(\"ingresa el rango final: \"))\n",
        "\n",
        "num = valida_num(\"Dame un numero: \", inicial,final)\n",
        "\n",
        "print(f\"El numero ingresado es : \", num)"
      ],
      "metadata": {
        "colab": {
          "base_uri": "https://localhost:8080/",
          "height": 0
        },
        "id": "dmozW-DcGCDM",
        "outputId": "fc94fa12-067e-4bbd-9908-a2ec011a0709"
      },
      "execution_count": 3,
      "outputs": [
        {
          "output_type": "stream",
          "name": "stdout",
          "text": [
            "programa que retorna un numero dentro de un rango dado\n",
            "ingresa el rango inicial: 10\n",
            "ingresa el rango final: 20\n",
            "Dame un numero: 25\n",
            "error: solo agregar valores entre 10 y 20\n",
            "Dame un numero: 10\n",
            "El numero ingresado es :  10\n"
          ]
        }
      ]
    }
  ]
}